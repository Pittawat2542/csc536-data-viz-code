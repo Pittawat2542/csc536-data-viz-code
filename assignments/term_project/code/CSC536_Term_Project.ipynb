{
 "cells": [
  {
   "cell_type": "markdown",
   "metadata": {
    "id": "6Jc5e5WNE-jB"
   },
   "source": [
    "# Education Statistics Dataset\n",
    "by Pittawat Taveekitworachai 61130500220\n",
    "\n",
    "Data Source: [World Bank](https://datacatalog.worldbank.org/dataset/education-statistics)"
   ]
  },
  {
   "cell_type": "markdown",
   "metadata": {
    "id": "pyItHO08RJE2"
   },
   "source": [
    "# Setup"
   ]
  },
  {
   "cell_type": "markdown",
   "metadata": {
    "id": "iJ6is7OsFbr7"
   },
   "source": [
    "## Import required dependencies"
   ]
  },
  {
   "cell_type": "code",
   "execution_count": null,
   "metadata": {
    "id": "uUsAl2cVhb3s"
   },
   "outputs": [],
   "source": [
    "import pandas as pd\n",
    "import numpy as np\n",
    "import matplotlib.pyplot as plt\n",
    "import seaborn as sns\n",
    "from matplotlib.dates import DateFormatter\n",
    "import matplotlib.dates as mdates"
   ]
  },
  {
   "cell_type": "markdown",
   "metadata": {
    "id": "ybcRhb__RKmg"
   },
   "source": [
    "## General config"
   ]
  },
  {
   "cell_type": "code",
   "execution_count": null,
   "metadata": {
    "id": "1ojaL0JhCaqG"
   },
   "outputs": [],
   "source": [
    "sns.set_style(\"darkgrid\")"
   ]
  },
  {
   "cell_type": "code",
   "execution_count": null,
   "metadata": {
    "colab": {
     "base_uri": "https://localhost:8080/"
    },
    "id": "fCOgSIQ1pLyy",
    "outputId": "09a6d760-e47a-43e1-a5c0-3a550e8727a3"
   },
   "outputs": [
    {
     "name": "stdout",
     "output_type": "stream",
     "text": [
      "Mounted at /gdrive\n"
     ]
    }
   ],
   "source": [
    "from google.colab import drive\n",
    "drive.mount('/gdrive')"
   ]
  },
  {
   "cell_type": "code",
   "execution_count": null,
   "metadata": {
    "id": "o4a2wmvipMhJ"
   },
   "outputs": [],
   "source": [
    "prefix_path = '/gdrive/MyDrive/Colab Notebooks/CSC536/'"
   ]
  },
  {
   "cell_type": "markdown",
   "metadata": {
    "id": "6iTtmQgnFfMv"
   },
   "source": [
    "## Import dataset and Data Examination"
   ]
  },
  {
   "cell_type": "code",
   "execution_count": null,
   "metadata": {
    "id": "tRjiPgqziXQ6"
   },
   "outputs": [],
   "source": [
    "country = pd.read_csv(f'{prefix_path}country.csv')\n",
    "education = pd.read_csv(f'{prefix_path}education.csv')"
   ]
  },
  {
   "cell_type": "code",
   "execution_count": null,
   "metadata": {
    "colab": {
     "base_uri": "https://localhost:8080/",
     "height": 768
    },
    "id": "TgT9coBqiZ0l",
    "outputId": "633b34db-9b99-4dc8-ad1a-50a2f68464e0"
   },
   "outputs": [
    {
     "data": {
      "text/html": [
       "<div>\n",
       "<style scoped>\n",
       "    .dataframe tbody tr th:only-of-type {\n",
       "        vertical-align: middle;\n",
       "    }\n",
       "\n",
       "    .dataframe tbody tr th {\n",
       "        vertical-align: top;\n",
       "    }\n",
       "\n",
       "    .dataframe thead th {\n",
       "        text-align: right;\n",
       "    }\n",
       "</style>\n",
       "<table border=\"1\" class=\"dataframe\">\n",
       "  <thead>\n",
       "    <tr style=\"text-align: right;\">\n",
       "      <th></th>\n",
       "      <th>Country Code</th>\n",
       "      <th>Short Name</th>\n",
       "      <th>Table Name</th>\n",
       "      <th>Long Name</th>\n",
       "      <th>2-alpha code</th>\n",
       "      <th>Currency Unit</th>\n",
       "      <th>Special Notes</th>\n",
       "      <th>Region</th>\n",
       "      <th>Income Group</th>\n",
       "      <th>WB-2 code</th>\n",
       "      <th>National accounts base year</th>\n",
       "      <th>National accounts reference year</th>\n",
       "      <th>SNA price valuation</th>\n",
       "      <th>Lending category</th>\n",
       "      <th>Other groups</th>\n",
       "      <th>System of National Accounts</th>\n",
       "      <th>Alternative conversion factor</th>\n",
       "      <th>PPP survey year</th>\n",
       "      <th>Balance of Payments Manual in use</th>\n",
       "      <th>External debt Reporting status</th>\n",
       "      <th>System of trade</th>\n",
       "      <th>Government Accounting concept</th>\n",
       "      <th>IMF data dissemination standard</th>\n",
       "      <th>Latest population census</th>\n",
       "      <th>Latest household survey</th>\n",
       "      <th>Source of most recent Income and expenditure data</th>\n",
       "      <th>Vital registration complete</th>\n",
       "      <th>Latest agricultural census</th>\n",
       "      <th>Latest industrial data</th>\n",
       "      <th>Latest trade data</th>\n",
       "      <th>Latest water withdrawal data</th>\n",
       "      <th>Unnamed: 31</th>\n",
       "    </tr>\n",
       "  </thead>\n",
       "  <tbody>\n",
       "    <tr>\n",
       "      <th>0</th>\n",
       "      <td>ABW</td>\n",
       "      <td>Aruba</td>\n",
       "      <td>Aruba</td>\n",
       "      <td>Aruba</td>\n",
       "      <td>AW</td>\n",
       "      <td>Aruban florin</td>\n",
       "      <td>SNA data for 2000-2011 are updated from offici...</td>\n",
       "      <td>Latin America &amp; Caribbean</td>\n",
       "      <td>High income: nonOECD</td>\n",
       "      <td>AW</td>\n",
       "      <td>2000</td>\n",
       "      <td>NaN</td>\n",
       "      <td>Value added at basic prices (VAB)</td>\n",
       "      <td>NaN</td>\n",
       "      <td>NaN</td>\n",
       "      <td>Country uses the 1993 System of National Accou...</td>\n",
       "      <td>NaN</td>\n",
       "      <td>NaN</td>\n",
       "      <td>IMF Balance of Payments Manual, 6th edition.</td>\n",
       "      <td>NaN</td>\n",
       "      <td>Special trade system</td>\n",
       "      <td>NaN</td>\n",
       "      <td>NaN</td>\n",
       "      <td>2010</td>\n",
       "      <td>NaN</td>\n",
       "      <td>NaN</td>\n",
       "      <td>Yes</td>\n",
       "      <td>NaN</td>\n",
       "      <td>NaN</td>\n",
       "      <td>2012.0</td>\n",
       "      <td>NaN</td>\n",
       "      <td>NaN</td>\n",
       "    </tr>\n",
       "    <tr>\n",
       "      <th>1</th>\n",
       "      <td>AFG</td>\n",
       "      <td>Afghanistan</td>\n",
       "      <td>Afghanistan</td>\n",
       "      <td>Islamic State of Afghanistan</td>\n",
       "      <td>AF</td>\n",
       "      <td>Afghan afghani</td>\n",
       "      <td>Fiscal year end: March 20; reporting period fo...</td>\n",
       "      <td>South Asia</td>\n",
       "      <td>Low income</td>\n",
       "      <td>AF</td>\n",
       "      <td>2002/03</td>\n",
       "      <td>NaN</td>\n",
       "      <td>Value added at basic prices (VAB)</td>\n",
       "      <td>IDA</td>\n",
       "      <td>HIPC</td>\n",
       "      <td>Country uses the 1993 System of National Accou...</td>\n",
       "      <td>NaN</td>\n",
       "      <td>NaN</td>\n",
       "      <td>NaN</td>\n",
       "      <td>Actual</td>\n",
       "      <td>General trade system</td>\n",
       "      <td>Consolidated central government</td>\n",
       "      <td>General Data Dissemination System (GDDS)</td>\n",
       "      <td>1979</td>\n",
       "      <td>Multiple Indicator Cluster Survey (MICS), 2010/11</td>\n",
       "      <td>Integrated household survey (IHS), 2008</td>\n",
       "      <td>NaN</td>\n",
       "      <td>2013/14</td>\n",
       "      <td>NaN</td>\n",
       "      <td>2012.0</td>\n",
       "      <td>2000</td>\n",
       "      <td>NaN</td>\n",
       "    </tr>\n",
       "    <tr>\n",
       "      <th>2</th>\n",
       "      <td>AGO</td>\n",
       "      <td>Angola</td>\n",
       "      <td>Angola</td>\n",
       "      <td>People's Republic of Angola</td>\n",
       "      <td>AO</td>\n",
       "      <td>Angolan kwanza</td>\n",
       "      <td>April 2013 database update: Based on IMF data,...</td>\n",
       "      <td>Sub-Saharan Africa</td>\n",
       "      <td>Upper middle income</td>\n",
       "      <td>AO</td>\n",
       "      <td>2002</td>\n",
       "      <td>NaN</td>\n",
       "      <td>Value added at producer prices (VAP)</td>\n",
       "      <td>IBRD</td>\n",
       "      <td>NaN</td>\n",
       "      <td>Country uses the 1993 System of National Accou...</td>\n",
       "      <td>1991–96</td>\n",
       "      <td>2005</td>\n",
       "      <td>IMF Balance of Payments Manual, 6th edition.</td>\n",
       "      <td>Actual</td>\n",
       "      <td>Special trade system</td>\n",
       "      <td>Budgetary central government</td>\n",
       "      <td>General Data Dissemination System (GDDS)</td>\n",
       "      <td>1970</td>\n",
       "      <td>Malaria Indicator Survey (MIS), 2011</td>\n",
       "      <td>Integrated household survey (IHS), 2008</td>\n",
       "      <td>NaN</td>\n",
       "      <td>2015</td>\n",
       "      <td>NaN</td>\n",
       "      <td>NaN</td>\n",
       "      <td>2005</td>\n",
       "      <td>NaN</td>\n",
       "    </tr>\n",
       "    <tr>\n",
       "      <th>3</th>\n",
       "      <td>ALB</td>\n",
       "      <td>Albania</td>\n",
       "      <td>Albania</td>\n",
       "      <td>Republic of Albania</td>\n",
       "      <td>AL</td>\n",
       "      <td>Albanian lek</td>\n",
       "      <td>NaN</td>\n",
       "      <td>Europe &amp; Central Asia</td>\n",
       "      <td>Upper middle income</td>\n",
       "      <td>AL</td>\n",
       "      <td>Original chained constant price data are resca...</td>\n",
       "      <td>1996.0</td>\n",
       "      <td>Value added at basic prices (VAB)</td>\n",
       "      <td>IBRD</td>\n",
       "      <td>NaN</td>\n",
       "      <td>Country uses the 1993 System of National Accou...</td>\n",
       "      <td>NaN</td>\n",
       "      <td>Rolling</td>\n",
       "      <td>IMF Balance of Payments Manual, 6th edition.</td>\n",
       "      <td>Actual</td>\n",
       "      <td>General trade system</td>\n",
       "      <td>Budgetary central government</td>\n",
       "      <td>General Data Dissemination System (GDDS)</td>\n",
       "      <td>2011</td>\n",
       "      <td>Demographic and Health Survey (DHS), 2008/09</td>\n",
       "      <td>Living Standards Measurement Study Survey (LSM...</td>\n",
       "      <td>Yes</td>\n",
       "      <td>2012</td>\n",
       "      <td>2010.0</td>\n",
       "      <td>2012.0</td>\n",
       "      <td>2006</td>\n",
       "      <td>NaN</td>\n",
       "    </tr>\n",
       "    <tr>\n",
       "      <th>4</th>\n",
       "      <td>AND</td>\n",
       "      <td>Andorra</td>\n",
       "      <td>Andorra</td>\n",
       "      <td>Principality of Andorra</td>\n",
       "      <td>AD</td>\n",
       "      <td>Euro</td>\n",
       "      <td>NaN</td>\n",
       "      <td>Europe &amp; Central Asia</td>\n",
       "      <td>High income: nonOECD</td>\n",
       "      <td>AD</td>\n",
       "      <td>1990</td>\n",
       "      <td>NaN</td>\n",
       "      <td>NaN</td>\n",
       "      <td>NaN</td>\n",
       "      <td>NaN</td>\n",
       "      <td>Country uses the 1968 System of National Accou...</td>\n",
       "      <td>NaN</td>\n",
       "      <td>NaN</td>\n",
       "      <td>NaN</td>\n",
       "      <td>NaN</td>\n",
       "      <td>Special trade system</td>\n",
       "      <td>NaN</td>\n",
       "      <td>NaN</td>\n",
       "      <td>2011. Population figures compiled from adminis...</td>\n",
       "      <td>NaN</td>\n",
       "      <td>NaN</td>\n",
       "      <td>Yes</td>\n",
       "      <td>NaN</td>\n",
       "      <td>NaN</td>\n",
       "      <td>2006.0</td>\n",
       "      <td>NaN</td>\n",
       "      <td>NaN</td>\n",
       "    </tr>\n",
       "  </tbody>\n",
       "</table>\n",
       "</div>"
      ],
      "text/plain": [
       "  Country Code   Short Name  ... Latest water withdrawal data Unnamed: 31\n",
       "0          ABW        Aruba  ...                          NaN         NaN\n",
       "1          AFG  Afghanistan  ...                         2000         NaN\n",
       "2          AGO       Angola  ...                         2005         NaN\n",
       "3          ALB      Albania  ...                         2006         NaN\n",
       "4          AND      Andorra  ...                          NaN         NaN\n",
       "\n",
       "[5 rows x 32 columns]"
      ]
     },
     "execution_count": 6,
     "metadata": {
      "tags": []
     },
     "output_type": "execute_result"
    }
   ],
   "source": [
    "country.head()"
   ]
  },
  {
   "cell_type": "code",
   "execution_count": null,
   "metadata": {
    "colab": {
     "base_uri": "https://localhost:8080/",
     "height": 666
    },
    "id": "G5THaaV5JMlQ",
    "outputId": "1a8cc314-b73b-4bc1-b177-e32ce1841c57"
   },
   "outputs": [
    {
     "data": {
      "text/html": [
       "<div>\n",
       "<style scoped>\n",
       "    .dataframe tbody tr th:only-of-type {\n",
       "        vertical-align: middle;\n",
       "    }\n",
       "\n",
       "    .dataframe tbody tr th {\n",
       "        vertical-align: top;\n",
       "    }\n",
       "\n",
       "    .dataframe thead th {\n",
       "        text-align: right;\n",
       "    }\n",
       "</style>\n",
       "<table border=\"1\" class=\"dataframe\">\n",
       "  <thead>\n",
       "    <tr style=\"text-align: right;\">\n",
       "      <th></th>\n",
       "      <th>Country Name</th>\n",
       "      <th>Country Code</th>\n",
       "      <th>Indicator Name</th>\n",
       "      <th>Indicator Code</th>\n",
       "      <th>1970</th>\n",
       "      <th>1971</th>\n",
       "      <th>1972</th>\n",
       "      <th>1973</th>\n",
       "      <th>1974</th>\n",
       "      <th>1975</th>\n",
       "      <th>1976</th>\n",
       "      <th>1977</th>\n",
       "      <th>1978</th>\n",
       "      <th>1979</th>\n",
       "      <th>1980</th>\n",
       "      <th>1981</th>\n",
       "      <th>1982</th>\n",
       "      <th>1983</th>\n",
       "      <th>1984</th>\n",
       "      <th>1985</th>\n",
       "      <th>1986</th>\n",
       "      <th>1987</th>\n",
       "      <th>1988</th>\n",
       "      <th>1989</th>\n",
       "      <th>1990</th>\n",
       "      <th>1991</th>\n",
       "      <th>1992</th>\n",
       "      <th>1993</th>\n",
       "      <th>1994</th>\n",
       "      <th>1995</th>\n",
       "      <th>1996</th>\n",
       "      <th>1997</th>\n",
       "      <th>1998</th>\n",
       "      <th>1999</th>\n",
       "      <th>2000</th>\n",
       "      <th>2001</th>\n",
       "      <th>2002</th>\n",
       "      <th>2003</th>\n",
       "      <th>2004</th>\n",
       "      <th>2005</th>\n",
       "      <th>2006</th>\n",
       "      <th>2007</th>\n",
       "      <th>2008</th>\n",
       "      <th>2009</th>\n",
       "      <th>2010</th>\n",
       "      <th>2011</th>\n",
       "      <th>2012</th>\n",
       "      <th>2013</th>\n",
       "      <th>2014</th>\n",
       "      <th>2015</th>\n",
       "      <th>2016</th>\n",
       "      <th>2017</th>\n",
       "      <th>2020</th>\n",
       "      <th>2025</th>\n",
       "      <th>2030</th>\n",
       "      <th>2035</th>\n",
       "      <th>2040</th>\n",
       "      <th>2045</th>\n",
       "      <th>2050</th>\n",
       "      <th>2055</th>\n",
       "      <th>2060</th>\n",
       "      <th>2065</th>\n",
       "      <th>2070</th>\n",
       "      <th>2075</th>\n",
       "      <th>2080</th>\n",
       "      <th>2085</th>\n",
       "      <th>2090</th>\n",
       "      <th>2095</th>\n",
       "      <th>2100</th>\n",
       "      <th>Unnamed: 69</th>\n",
       "    </tr>\n",
       "  </thead>\n",
       "  <tbody>\n",
       "    <tr>\n",
       "      <th>0</th>\n",
       "      <td>Arab World</td>\n",
       "      <td>ARB</td>\n",
       "      <td>Adjusted net enrolment rate, lower secondary, ...</td>\n",
       "      <td>UIS.NERA.2</td>\n",
       "      <td>NaN</td>\n",
       "      <td>NaN</td>\n",
       "      <td>NaN</td>\n",
       "      <td>NaN</td>\n",
       "      <td>NaN</td>\n",
       "      <td>NaN</td>\n",
       "      <td>NaN</td>\n",
       "      <td>NaN</td>\n",
       "      <td>NaN</td>\n",
       "      <td>NaN</td>\n",
       "      <td>NaN</td>\n",
       "      <td>NaN</td>\n",
       "      <td>NaN</td>\n",
       "      <td>NaN</td>\n",
       "      <td>NaN</td>\n",
       "      <td>NaN</td>\n",
       "      <td>NaN</td>\n",
       "      <td>NaN</td>\n",
       "      <td>NaN</td>\n",
       "      <td>NaN</td>\n",
       "      <td>NaN</td>\n",
       "      <td>NaN</td>\n",
       "      <td>NaN</td>\n",
       "      <td>NaN</td>\n",
       "      <td>NaN</td>\n",
       "      <td>NaN</td>\n",
       "      <td>NaN</td>\n",
       "      <td>NaN</td>\n",
       "      <td>NaN</td>\n",
       "      <td>NaN</td>\n",
       "      <td>NaN</td>\n",
       "      <td>NaN</td>\n",
       "      <td>NaN</td>\n",
       "      <td>NaN</td>\n",
       "      <td>NaN</td>\n",
       "      <td>NaN</td>\n",
       "      <td>NaN</td>\n",
       "      <td>NaN</td>\n",
       "      <td>NaN</td>\n",
       "      <td>NaN</td>\n",
       "      <td>NaN</td>\n",
       "      <td>NaN</td>\n",
       "      <td>NaN</td>\n",
       "      <td>NaN</td>\n",
       "      <td>NaN</td>\n",
       "      <td>NaN</td>\n",
       "      <td>NaN</td>\n",
       "      <td>NaN</td>\n",
       "      <td>NaN</td>\n",
       "      <td>NaN</td>\n",
       "      <td>NaN</td>\n",
       "      <td>NaN</td>\n",
       "      <td>NaN</td>\n",
       "      <td>NaN</td>\n",
       "      <td>NaN</td>\n",
       "      <td>NaN</td>\n",
       "      <td>NaN</td>\n",
       "      <td>NaN</td>\n",
       "      <td>NaN</td>\n",
       "      <td>NaN</td>\n",
       "      <td>NaN</td>\n",
       "      <td>NaN</td>\n",
       "      <td>NaN</td>\n",
       "      <td>NaN</td>\n",
       "      <td>NaN</td>\n",
       "      <td>NaN</td>\n",
       "    </tr>\n",
       "    <tr>\n",
       "      <th>1</th>\n",
       "      <td>Arab World</td>\n",
       "      <td>ARB</td>\n",
       "      <td>Adjusted net enrolment rate, lower secondary, ...</td>\n",
       "      <td>UIS.NERA.2.F</td>\n",
       "      <td>NaN</td>\n",
       "      <td>NaN</td>\n",
       "      <td>NaN</td>\n",
       "      <td>NaN</td>\n",
       "      <td>NaN</td>\n",
       "      <td>NaN</td>\n",
       "      <td>NaN</td>\n",
       "      <td>NaN</td>\n",
       "      <td>NaN</td>\n",
       "      <td>NaN</td>\n",
       "      <td>NaN</td>\n",
       "      <td>NaN</td>\n",
       "      <td>NaN</td>\n",
       "      <td>NaN</td>\n",
       "      <td>NaN</td>\n",
       "      <td>NaN</td>\n",
       "      <td>NaN</td>\n",
       "      <td>NaN</td>\n",
       "      <td>NaN</td>\n",
       "      <td>NaN</td>\n",
       "      <td>NaN</td>\n",
       "      <td>NaN</td>\n",
       "      <td>NaN</td>\n",
       "      <td>NaN</td>\n",
       "      <td>NaN</td>\n",
       "      <td>NaN</td>\n",
       "      <td>NaN</td>\n",
       "      <td>NaN</td>\n",
       "      <td>NaN</td>\n",
       "      <td>NaN</td>\n",
       "      <td>NaN</td>\n",
       "      <td>NaN</td>\n",
       "      <td>NaN</td>\n",
       "      <td>NaN</td>\n",
       "      <td>NaN</td>\n",
       "      <td>NaN</td>\n",
       "      <td>NaN</td>\n",
       "      <td>NaN</td>\n",
       "      <td>NaN</td>\n",
       "      <td>NaN</td>\n",
       "      <td>NaN</td>\n",
       "      <td>NaN</td>\n",
       "      <td>NaN</td>\n",
       "      <td>NaN</td>\n",
       "      <td>NaN</td>\n",
       "      <td>NaN</td>\n",
       "      <td>NaN</td>\n",
       "      <td>NaN</td>\n",
       "      <td>NaN</td>\n",
       "      <td>NaN</td>\n",
       "      <td>NaN</td>\n",
       "      <td>NaN</td>\n",
       "      <td>NaN</td>\n",
       "      <td>NaN</td>\n",
       "      <td>NaN</td>\n",
       "      <td>NaN</td>\n",
       "      <td>NaN</td>\n",
       "      <td>NaN</td>\n",
       "      <td>NaN</td>\n",
       "      <td>NaN</td>\n",
       "      <td>NaN</td>\n",
       "      <td>NaN</td>\n",
       "      <td>NaN</td>\n",
       "      <td>NaN</td>\n",
       "      <td>NaN</td>\n",
       "      <td>NaN</td>\n",
       "    </tr>\n",
       "    <tr>\n",
       "      <th>2</th>\n",
       "      <td>Arab World</td>\n",
       "      <td>ARB</td>\n",
       "      <td>Adjusted net enrolment rate, lower secondary, ...</td>\n",
       "      <td>UIS.NERA.2.GPI</td>\n",
       "      <td>NaN</td>\n",
       "      <td>NaN</td>\n",
       "      <td>NaN</td>\n",
       "      <td>NaN</td>\n",
       "      <td>NaN</td>\n",
       "      <td>NaN</td>\n",
       "      <td>NaN</td>\n",
       "      <td>NaN</td>\n",
       "      <td>NaN</td>\n",
       "      <td>NaN</td>\n",
       "      <td>NaN</td>\n",
       "      <td>NaN</td>\n",
       "      <td>NaN</td>\n",
       "      <td>NaN</td>\n",
       "      <td>NaN</td>\n",
       "      <td>NaN</td>\n",
       "      <td>NaN</td>\n",
       "      <td>NaN</td>\n",
       "      <td>NaN</td>\n",
       "      <td>NaN</td>\n",
       "      <td>NaN</td>\n",
       "      <td>NaN</td>\n",
       "      <td>NaN</td>\n",
       "      <td>NaN</td>\n",
       "      <td>NaN</td>\n",
       "      <td>NaN</td>\n",
       "      <td>NaN</td>\n",
       "      <td>NaN</td>\n",
       "      <td>NaN</td>\n",
       "      <td>NaN</td>\n",
       "      <td>NaN</td>\n",
       "      <td>NaN</td>\n",
       "      <td>NaN</td>\n",
       "      <td>NaN</td>\n",
       "      <td>NaN</td>\n",
       "      <td>NaN</td>\n",
       "      <td>NaN</td>\n",
       "      <td>NaN</td>\n",
       "      <td>NaN</td>\n",
       "      <td>NaN</td>\n",
       "      <td>NaN</td>\n",
       "      <td>NaN</td>\n",
       "      <td>NaN</td>\n",
       "      <td>NaN</td>\n",
       "      <td>NaN</td>\n",
       "      <td>NaN</td>\n",
       "      <td>NaN</td>\n",
       "      <td>NaN</td>\n",
       "      <td>NaN</td>\n",
       "      <td>NaN</td>\n",
       "      <td>NaN</td>\n",
       "      <td>NaN</td>\n",
       "      <td>NaN</td>\n",
       "      <td>NaN</td>\n",
       "      <td>NaN</td>\n",
       "      <td>NaN</td>\n",
       "      <td>NaN</td>\n",
       "      <td>NaN</td>\n",
       "      <td>NaN</td>\n",
       "      <td>NaN</td>\n",
       "      <td>NaN</td>\n",
       "      <td>NaN</td>\n",
       "      <td>NaN</td>\n",
       "      <td>NaN</td>\n",
       "      <td>NaN</td>\n",
       "      <td>NaN</td>\n",
       "    </tr>\n",
       "    <tr>\n",
       "      <th>3</th>\n",
       "      <td>Arab World</td>\n",
       "      <td>ARB</td>\n",
       "      <td>Adjusted net enrolment rate, lower secondary, ...</td>\n",
       "      <td>UIS.NERA.2.M</td>\n",
       "      <td>NaN</td>\n",
       "      <td>NaN</td>\n",
       "      <td>NaN</td>\n",
       "      <td>NaN</td>\n",
       "      <td>NaN</td>\n",
       "      <td>NaN</td>\n",
       "      <td>NaN</td>\n",
       "      <td>NaN</td>\n",
       "      <td>NaN</td>\n",
       "      <td>NaN</td>\n",
       "      <td>NaN</td>\n",
       "      <td>NaN</td>\n",
       "      <td>NaN</td>\n",
       "      <td>NaN</td>\n",
       "      <td>NaN</td>\n",
       "      <td>NaN</td>\n",
       "      <td>NaN</td>\n",
       "      <td>NaN</td>\n",
       "      <td>NaN</td>\n",
       "      <td>NaN</td>\n",
       "      <td>NaN</td>\n",
       "      <td>NaN</td>\n",
       "      <td>NaN</td>\n",
       "      <td>NaN</td>\n",
       "      <td>NaN</td>\n",
       "      <td>NaN</td>\n",
       "      <td>NaN</td>\n",
       "      <td>NaN</td>\n",
       "      <td>NaN</td>\n",
       "      <td>NaN</td>\n",
       "      <td>NaN</td>\n",
       "      <td>NaN</td>\n",
       "      <td>NaN</td>\n",
       "      <td>NaN</td>\n",
       "      <td>NaN</td>\n",
       "      <td>NaN</td>\n",
       "      <td>NaN</td>\n",
       "      <td>NaN</td>\n",
       "      <td>NaN</td>\n",
       "      <td>NaN</td>\n",
       "      <td>NaN</td>\n",
       "      <td>NaN</td>\n",
       "      <td>NaN</td>\n",
       "      <td>NaN</td>\n",
       "      <td>NaN</td>\n",
       "      <td>NaN</td>\n",
       "      <td>NaN</td>\n",
       "      <td>NaN</td>\n",
       "      <td>NaN</td>\n",
       "      <td>NaN</td>\n",
       "      <td>NaN</td>\n",
       "      <td>NaN</td>\n",
       "      <td>NaN</td>\n",
       "      <td>NaN</td>\n",
       "      <td>NaN</td>\n",
       "      <td>NaN</td>\n",
       "      <td>NaN</td>\n",
       "      <td>NaN</td>\n",
       "      <td>NaN</td>\n",
       "      <td>NaN</td>\n",
       "      <td>NaN</td>\n",
       "      <td>NaN</td>\n",
       "      <td>NaN</td>\n",
       "      <td>NaN</td>\n",
       "      <td>NaN</td>\n",
       "      <td>NaN</td>\n",
       "    </tr>\n",
       "    <tr>\n",
       "      <th>4</th>\n",
       "      <td>Arab World</td>\n",
       "      <td>ARB</td>\n",
       "      <td>Adjusted net enrolment rate, primary, both sex...</td>\n",
       "      <td>SE.PRM.TENR</td>\n",
       "      <td>54.822121</td>\n",
       "      <td>54.894138</td>\n",
       "      <td>56.209438</td>\n",
       "      <td>57.267109</td>\n",
       "      <td>57.991138</td>\n",
       "      <td>59.36554</td>\n",
       "      <td>60.999962</td>\n",
       "      <td>61.92268</td>\n",
       "      <td>62.69342</td>\n",
       "      <td>64.383186</td>\n",
       "      <td>65.617767</td>\n",
       "      <td>66.085152</td>\n",
       "      <td>66.608139</td>\n",
       "      <td>67.290451</td>\n",
       "      <td>68.510094</td>\n",
       "      <td>69.033211</td>\n",
       "      <td>69.944908</td>\n",
       "      <td>71.04187</td>\n",
       "      <td>71.693779</td>\n",
       "      <td>71.699097</td>\n",
       "      <td>71.995819</td>\n",
       "      <td>72.602837</td>\n",
       "      <td>70.032722</td>\n",
       "      <td>70.464821</td>\n",
       "      <td>72.645683</td>\n",
       "      <td>71.81176</td>\n",
       "      <td>73.903511</td>\n",
       "      <td>74.425201</td>\n",
       "      <td>75.110817</td>\n",
       "      <td>76.254318</td>\n",
       "      <td>77.245682</td>\n",
       "      <td>78.800522</td>\n",
       "      <td>80.051399</td>\n",
       "      <td>80.805389</td>\n",
       "      <td>81.607063</td>\n",
       "      <td>82.489487</td>\n",
       "      <td>82.685509</td>\n",
       "      <td>83.280342</td>\n",
       "      <td>84.011871</td>\n",
       "      <td>84.195961</td>\n",
       "      <td>85.211998</td>\n",
       "      <td>85.24514</td>\n",
       "      <td>86.101669</td>\n",
       "      <td>85.51194</td>\n",
       "      <td>85.320152</td>\n",
       "      <td>NaN</td>\n",
       "      <td>NaN</td>\n",
       "      <td>NaN</td>\n",
       "      <td>NaN</td>\n",
       "      <td>NaN</td>\n",
       "      <td>NaN</td>\n",
       "      <td>NaN</td>\n",
       "      <td>NaN</td>\n",
       "      <td>NaN</td>\n",
       "      <td>NaN</td>\n",
       "      <td>NaN</td>\n",
       "      <td>NaN</td>\n",
       "      <td>NaN</td>\n",
       "      <td>NaN</td>\n",
       "      <td>NaN</td>\n",
       "      <td>NaN</td>\n",
       "      <td>NaN</td>\n",
       "      <td>NaN</td>\n",
       "      <td>NaN</td>\n",
       "      <td>NaN</td>\n",
       "      <td>NaN</td>\n",
       "    </tr>\n",
       "  </tbody>\n",
       "</table>\n",
       "</div>"
      ],
      "text/plain": [
       "  Country Name Country Code  ... 2100 Unnamed: 69\n",
       "0   Arab World          ARB  ...  NaN         NaN\n",
       "1   Arab World          ARB  ...  NaN         NaN\n",
       "2   Arab World          ARB  ...  NaN         NaN\n",
       "3   Arab World          ARB  ...  NaN         NaN\n",
       "4   Arab World          ARB  ...  NaN         NaN\n",
       "\n",
       "[5 rows x 70 columns]"
      ]
     },
     "execution_count": 7,
     "metadata": {
      "tags": []
     },
     "output_type": "execute_result"
    }
   ],
   "source": [
    "education.head()"
   ]
  },
  {
   "cell_type": "code",
   "execution_count": null,
   "metadata": {
    "colab": {
     "base_uri": "https://localhost:8080/"
    },
    "id": "j8mgr1NQibxH",
    "outputId": "27094444-5e71-4ff0-8092-4fb7cce6c78b"
   },
   "outputs": [
    {
     "name": "stdout",
     "output_type": "stream",
     "text": [
      "<class 'pandas.core.frame.DataFrame'>\n",
      "RangeIndex: 241 entries, 0 to 240\n",
      "Data columns (total 32 columns):\n",
      " #   Column                                             Non-Null Count  Dtype  \n",
      "---  ------                                             --------------  -----  \n",
      " 0   Country Code                                       241 non-null    object \n",
      " 1   Short Name                                         241 non-null    object \n",
      " 2   Table Name                                         241 non-null    object \n",
      " 3   Long Name                                          241 non-null    object \n",
      " 4   2-alpha code                                       238 non-null    object \n",
      " 5   Currency Unit                                      215 non-null    object \n",
      " 6   Special Notes                                      145 non-null    object \n",
      " 7   Region                                             214 non-null    object \n",
      " 8   Income Group                                       214 non-null    object \n",
      " 9   WB-2 code                                          240 non-null    object \n",
      " 10  National accounts base year                        205 non-null    object \n",
      " 11  National accounts reference year                   32 non-null     float64\n",
      " 12  SNA price valuation                                197 non-null    object \n",
      " 13  Lending category                                   144 non-null    object \n",
      " 14  Other groups                                       58 non-null     object \n",
      " 15  System of National Accounts                        215 non-null    object \n",
      " 16  Alternative conversion factor                      47 non-null     object \n",
      " 17  PPP survey year                                    145 non-null    object \n",
      " 18  Balance of Payments Manual in use                  181 non-null    object \n",
      " 19  External debt Reporting status                     124 non-null    object \n",
      " 20  System of trade                                    200 non-null    object \n",
      " 21  Government Accounting concept                      161 non-null    object \n",
      " 22  IMF data dissemination standard                    181 non-null    object \n",
      " 23  Latest population census                           213 non-null    object \n",
      " 24  Latest household survey                            141 non-null    object \n",
      " 25  Source of most recent Income and expenditure data  160 non-null    object \n",
      " 26  Vital registration complete                        111 non-null    object \n",
      " 27  Latest agricultural census                         142 non-null    object \n",
      " 28  Latest industrial data                             107 non-null    float64\n",
      " 29  Latest trade data                                  185 non-null    float64\n",
      " 30  Latest water withdrawal data                       179 non-null    object \n",
      " 31  Unnamed: 31                                        0 non-null      float64\n",
      "dtypes: float64(4), object(28)\n",
      "memory usage: 60.4+ KB\n"
     ]
    }
   ],
   "source": [
    "country.info()"
   ]
  },
  {
   "cell_type": "code",
   "execution_count": null,
   "metadata": {
    "colab": {
     "base_uri": "https://localhost:8080/"
    },
    "id": "Qr4o8s3wZsi8",
    "outputId": "26c7de6a-1661-46cc-b58c-090ed68f595c"
   },
   "outputs": [
    {
     "name": "stdout",
     "output_type": "stream",
     "text": [
      "<class 'pandas.core.frame.DataFrame'>\n",
      "RangeIndex: 886930 entries, 0 to 886929\n",
      "Data columns (total 70 columns):\n",
      " #   Column          Non-Null Count   Dtype  \n",
      "---  ------          --------------   -----  \n",
      " 0   Country Name    886930 non-null  object \n",
      " 1   Country Code    886930 non-null  object \n",
      " 2   Indicator Name  886930 non-null  object \n",
      " 3   Indicator Code  886930 non-null  object \n",
      " 4   1970            72288 non-null   float64\n",
      " 5   1971            35537 non-null   float64\n",
      " 6   1972            35619 non-null   float64\n",
      " 7   1973            35545 non-null   float64\n",
      " 8   1974            35730 non-null   float64\n",
      " 9   1975            87306 non-null   float64\n",
      " 10  1976            37483 non-null   float64\n",
      " 11  1977            37574 non-null   float64\n",
      " 12  1978            37576 non-null   float64\n",
      " 13  1979            36809 non-null   float64\n",
      " 14  1980            89122 non-null   float64\n",
      " 15  1981            38777 non-null   float64\n",
      " 16  1982            37511 non-null   float64\n",
      " 17  1983            38460 non-null   float64\n",
      " 18  1984            38606 non-null   float64\n",
      " 19  1985            90296 non-null   float64\n",
      " 20  1986            39372 non-null   float64\n",
      " 21  1987            38641 non-null   float64\n",
      " 22  1988            38552 non-null   float64\n",
      " 23  1989            37540 non-null   float64\n",
      " 24  1990            124405 non-null  float64\n",
      " 25  1991            74437 non-null   float64\n",
      " 26  1992            75543 non-null   float64\n",
      " 27  1993            75793 non-null   float64\n",
      " 28  1994            77462 non-null   float64\n",
      " 29  1995            131361 non-null  float64\n",
      " 30  1996            76807 non-null   float64\n",
      " 31  1997            73453 non-null   float64\n",
      " 32  1998            84914 non-null   float64\n",
      " 33  1999            118839 non-null  float64\n",
      " 34  2000            176676 non-null  float64\n",
      " 35  2001            123509 non-null  float64\n",
      " 36  2002            124205 non-null  float64\n",
      " 37  2003            130363 non-null  float64\n",
      " 38  2004            128814 non-null  float64\n",
      " 39  2005            184108 non-null  float64\n",
      " 40  2006            140312 non-null  float64\n",
      " 41  2007            137272 non-null  float64\n",
      " 42  2008            134387 non-null  float64\n",
      " 43  2009            142108 non-null  float64\n",
      " 44  2010            242442 non-null  float64\n",
      " 45  2011            146012 non-null  float64\n",
      " 46  2012            147264 non-null  float64\n",
      " 47  2013            137509 non-null  float64\n",
      " 48  2014            113789 non-null  float64\n",
      " 49  2015            131058 non-null  float64\n",
      " 50  2016            16460 non-null   float64\n",
      " 51  2017            143 non-null     float64\n",
      " 52  2020            51436 non-null   float64\n",
      " 53  2025            51436 non-null   float64\n",
      " 54  2030            51436 non-null   float64\n",
      " 55  2035            51436 non-null   float64\n",
      " 56  2040            51436 non-null   float64\n",
      " 57  2045            51436 non-null   float64\n",
      " 58  2050            51436 non-null   float64\n",
      " 59  2055            51436 non-null   float64\n",
      " 60  2060            51436 non-null   float64\n",
      " 61  2065            51436 non-null   float64\n",
      " 62  2070            51436 non-null   float64\n",
      " 63  2075            51436 non-null   float64\n",
      " 64  2080            51436 non-null   float64\n",
      " 65  2085            51436 non-null   float64\n",
      " 66  2090            51436 non-null   float64\n",
      " 67  2095            51436 non-null   float64\n",
      " 68  2100            51436 non-null   float64\n",
      " 69  Unnamed: 69     0 non-null       float64\n",
      "dtypes: float64(66), object(4)\n",
      "memory usage: 473.7+ MB\n"
     ]
    }
   ],
   "source": [
    "education.info()"
   ]
  },
  {
   "cell_type": "code",
   "execution_count": null,
   "metadata": {
    "colab": {
     "base_uri": "https://localhost:8080/",
     "height": 297
    },
    "id": "PobQs-sycEl2",
    "outputId": "383c0900-a9ac-49db-b535-b21d9f9400fe"
   },
   "outputs": [
    {
     "data": {
      "text/html": [
       "<div>\n",
       "<style scoped>\n",
       "    .dataframe tbody tr th:only-of-type {\n",
       "        vertical-align: middle;\n",
       "    }\n",
       "\n",
       "    .dataframe tbody tr th {\n",
       "        vertical-align: top;\n",
       "    }\n",
       "\n",
       "    .dataframe thead th {\n",
       "        text-align: right;\n",
       "    }\n",
       "</style>\n",
       "<table border=\"1\" class=\"dataframe\">\n",
       "  <thead>\n",
       "    <tr style=\"text-align: right;\">\n",
       "      <th></th>\n",
       "      <th>National accounts reference year</th>\n",
       "      <th>Latest industrial data</th>\n",
       "      <th>Latest trade data</th>\n",
       "      <th>Unnamed: 31</th>\n",
       "    </tr>\n",
       "  </thead>\n",
       "  <tbody>\n",
       "    <tr>\n",
       "      <th>count</th>\n",
       "      <td>32.00000</td>\n",
       "      <td>107.000000</td>\n",
       "      <td>185.000000</td>\n",
       "      <td>0.0</td>\n",
       "    </tr>\n",
       "    <tr>\n",
       "      <th>mean</th>\n",
       "      <td>2001.53125</td>\n",
       "      <td>2008.102804</td>\n",
       "      <td>2010.994595</td>\n",
       "      <td>NaN</td>\n",
       "    </tr>\n",
       "    <tr>\n",
       "      <th>std</th>\n",
       "      <td>5.24856</td>\n",
       "      <td>2.616834</td>\n",
       "      <td>2.569675</td>\n",
       "      <td>NaN</td>\n",
       "    </tr>\n",
       "    <tr>\n",
       "      <th>min</th>\n",
       "      <td>1987.00000</td>\n",
       "      <td>2000.000000</td>\n",
       "      <td>1995.000000</td>\n",
       "      <td>NaN</td>\n",
       "    </tr>\n",
       "    <tr>\n",
       "      <th>25%</th>\n",
       "      <td>1996.75000</td>\n",
       "      <td>2007.500000</td>\n",
       "      <td>2011.000000</td>\n",
       "      <td>NaN</td>\n",
       "    </tr>\n",
       "    <tr>\n",
       "      <th>50%</th>\n",
       "      <td>2002.00000</td>\n",
       "      <td>2009.000000</td>\n",
       "      <td>2012.000000</td>\n",
       "      <td>NaN</td>\n",
       "    </tr>\n",
       "    <tr>\n",
       "      <th>75%</th>\n",
       "      <td>2005.00000</td>\n",
       "      <td>2010.000000</td>\n",
       "      <td>2012.000000</td>\n",
       "      <td>NaN</td>\n",
       "    </tr>\n",
       "    <tr>\n",
       "      <th>max</th>\n",
       "      <td>2012.00000</td>\n",
       "      <td>2010.000000</td>\n",
       "      <td>2012.000000</td>\n",
       "      <td>NaN</td>\n",
       "    </tr>\n",
       "  </tbody>\n",
       "</table>\n",
       "</div>"
      ],
      "text/plain": [
       "       National accounts reference year  ...  Unnamed: 31\n",
       "count                          32.00000  ...          0.0\n",
       "mean                         2001.53125  ...          NaN\n",
       "std                             5.24856  ...          NaN\n",
       "min                          1987.00000  ...          NaN\n",
       "25%                          1996.75000  ...          NaN\n",
       "50%                          2002.00000  ...          NaN\n",
       "75%                          2005.00000  ...          NaN\n",
       "max                          2012.00000  ...          NaN\n",
       "\n",
       "[8 rows x 4 columns]"
      ]
     },
     "execution_count": 10,
     "metadata": {
      "tags": []
     },
     "output_type": "execute_result"
    }
   ],
   "source": [
    "country.describe()"
   ]
  },
  {
   "cell_type": "code",
   "execution_count": null,
   "metadata": {
    "colab": {
     "base_uri": "https://localhost:8080/",
     "height": 351
    },
    "id": "qDClV78tcF06",
    "outputId": "bbbdce6a-b57b-48bd-f553-0bf5e9c15de2"
   },
   "outputs": [
    {
     "data": {
      "text/html": [
       "<div>\n",
       "<style scoped>\n",
       "    .dataframe tbody tr th:only-of-type {\n",
       "        vertical-align: middle;\n",
       "    }\n",
       "\n",
       "    .dataframe tbody tr th {\n",
       "        vertical-align: top;\n",
       "    }\n",
       "\n",
       "    .dataframe thead th {\n",
       "        text-align: right;\n",
       "    }\n",
       "</style>\n",
       "<table border=\"1\" class=\"dataframe\">\n",
       "  <thead>\n",
       "    <tr style=\"text-align: right;\">\n",
       "      <th></th>\n",
       "      <th>1970</th>\n",
       "      <th>1971</th>\n",
       "      <th>1972</th>\n",
       "      <th>1973</th>\n",
       "      <th>1974</th>\n",
       "      <th>1975</th>\n",
       "      <th>1976</th>\n",
       "      <th>1977</th>\n",
       "      <th>1978</th>\n",
       "      <th>1979</th>\n",
       "      <th>1980</th>\n",
       "      <th>1981</th>\n",
       "      <th>1982</th>\n",
       "      <th>1983</th>\n",
       "      <th>1984</th>\n",
       "      <th>1985</th>\n",
       "      <th>1986</th>\n",
       "      <th>1987</th>\n",
       "      <th>1988</th>\n",
       "      <th>1989</th>\n",
       "      <th>1990</th>\n",
       "      <th>1991</th>\n",
       "      <th>1992</th>\n",
       "      <th>1993</th>\n",
       "      <th>1994</th>\n",
       "      <th>1995</th>\n",
       "      <th>1996</th>\n",
       "      <th>1997</th>\n",
       "      <th>1998</th>\n",
       "      <th>1999</th>\n",
       "      <th>2000</th>\n",
       "      <th>2001</th>\n",
       "      <th>2002</th>\n",
       "      <th>2003</th>\n",
       "      <th>2004</th>\n",
       "      <th>2005</th>\n",
       "      <th>2006</th>\n",
       "      <th>2007</th>\n",
       "      <th>2008</th>\n",
       "      <th>2009</th>\n",
       "      <th>2010</th>\n",
       "      <th>2011</th>\n",
       "      <th>2012</th>\n",
       "      <th>2013</th>\n",
       "      <th>2014</th>\n",
       "      <th>2015</th>\n",
       "      <th>2016</th>\n",
       "      <th>2017</th>\n",
       "      <th>2020</th>\n",
       "      <th>2025</th>\n",
       "      <th>2030</th>\n",
       "      <th>2035</th>\n",
       "      <th>2040</th>\n",
       "      <th>2045</th>\n",
       "      <th>2050</th>\n",
       "      <th>2055</th>\n",
       "      <th>2060</th>\n",
       "      <th>2065</th>\n",
       "      <th>2070</th>\n",
       "      <th>2075</th>\n",
       "      <th>2080</th>\n",
       "      <th>2085</th>\n",
       "      <th>2090</th>\n",
       "      <th>2095</th>\n",
       "      <th>2100</th>\n",
       "      <th>Unnamed: 69</th>\n",
       "    </tr>\n",
       "  </thead>\n",
       "  <tbody>\n",
       "    <tr>\n",
       "      <th>count</th>\n",
       "      <td>7.228800e+04</td>\n",
       "      <td>3.553700e+04</td>\n",
       "      <td>3.561900e+04</td>\n",
       "      <td>3.554500e+04</td>\n",
       "      <td>3.573000e+04</td>\n",
       "      <td>8.730600e+04</td>\n",
       "      <td>3.748300e+04</td>\n",
       "      <td>3.757400e+04</td>\n",
       "      <td>3.757600e+04</td>\n",
       "      <td>3.680900e+04</td>\n",
       "      <td>8.912200e+04</td>\n",
       "      <td>3.877700e+04</td>\n",
       "      <td>3.751100e+04</td>\n",
       "      <td>3.846000e+04</td>\n",
       "      <td>3.860600e+04</td>\n",
       "      <td>9.029600e+04</td>\n",
       "      <td>3.937200e+04</td>\n",
       "      <td>3.864100e+04</td>\n",
       "      <td>3.855200e+04</td>\n",
       "      <td>3.754000e+04</td>\n",
       "      <td>1.244050e+05</td>\n",
       "      <td>7.443700e+04</td>\n",
       "      <td>7.554300e+04</td>\n",
       "      <td>7.579300e+04</td>\n",
       "      <td>7.746200e+04</td>\n",
       "      <td>1.313610e+05</td>\n",
       "      <td>7.680700e+04</td>\n",
       "      <td>7.345300e+04</td>\n",
       "      <td>8.491400e+04</td>\n",
       "      <td>1.188390e+05</td>\n",
       "      <td>1.766760e+05</td>\n",
       "      <td>1.235090e+05</td>\n",
       "      <td>1.242050e+05</td>\n",
       "      <td>1.303630e+05</td>\n",
       "      <td>1.288140e+05</td>\n",
       "      <td>1.841080e+05</td>\n",
       "      <td>1.403120e+05</td>\n",
       "      <td>1.372720e+05</td>\n",
       "      <td>1.343870e+05</td>\n",
       "      <td>1.421080e+05</td>\n",
       "      <td>2.424420e+05</td>\n",
       "      <td>1.460120e+05</td>\n",
       "      <td>1.472640e+05</td>\n",
       "      <td>1.375090e+05</td>\n",
       "      <td>1.137890e+05</td>\n",
       "      <td>1.310580e+05</td>\n",
       "      <td>1.646000e+04</td>\n",
       "      <td>143.000000</td>\n",
       "      <td>5.143600e+04</td>\n",
       "      <td>5.143600e+04</td>\n",
       "      <td>5.143600e+04</td>\n",
       "      <td>5.143600e+04</td>\n",
       "      <td>5.143600e+04</td>\n",
       "      <td>5.143600e+04</td>\n",
       "      <td>5.143600e+04</td>\n",
       "      <td>5.143600e+04</td>\n",
       "      <td>5.143600e+04</td>\n",
       "      <td>5.143600e+04</td>\n",
       "      <td>5.143600e+04</td>\n",
       "      <td>5.143600e+04</td>\n",
       "      <td>5.143600e+04</td>\n",
       "      <td>5.143600e+04</td>\n",
       "      <td>5.143600e+04</td>\n",
       "      <td>5.143600e+04</td>\n",
       "      <td>5.143600e+04</td>\n",
       "      <td>0.0</td>\n",
       "    </tr>\n",
       "    <tr>\n",
       "      <th>mean</th>\n",
       "      <td>1.974772e+09</td>\n",
       "      <td>4.253638e+09</td>\n",
       "      <td>4.592365e+09</td>\n",
       "      <td>5.105006e+09</td>\n",
       "      <td>5.401493e+09</td>\n",
       "      <td>2.314288e+09</td>\n",
       "      <td>5.731808e+09</td>\n",
       "      <td>6.124437e+09</td>\n",
       "      <td>6.671489e+09</td>\n",
       "      <td>7.436724e+09</td>\n",
       "      <td>3.283898e+09</td>\n",
       "      <td>7.664969e+09</td>\n",
       "      <td>7.913722e+09</td>\n",
       "      <td>7.856908e+09</td>\n",
       "      <td>8.118002e+09</td>\n",
       "      <td>3.622763e+09</td>\n",
       "      <td>9.156550e+09</td>\n",
       "      <td>1.014901e+10</td>\n",
       "      <td>1.104709e+10</td>\n",
       "      <td>1.195436e+10</td>\n",
       "      <td>9.084424e+09</td>\n",
       "      <td>1.571674e+10</td>\n",
       "      <td>1.604668e+10</td>\n",
       "      <td>1.643532e+10</td>\n",
       "      <td>1.684022e+10</td>\n",
       "      <td>1.052543e+10</td>\n",
       "      <td>1.874630e+10</td>\n",
       "      <td>2.027385e+10</td>\n",
       "      <td>1.794678e+10</td>\n",
       "      <td>1.331558e+10</td>\n",
       "      <td>9.423384e+09</td>\n",
       "      <td>1.384867e+10</td>\n",
       "      <td>1.428299e+10</td>\n",
       "      <td>1.449393e+10</td>\n",
       "      <td>1.589729e+10</td>\n",
       "      <td>1.188637e+10</td>\n",
       "      <td>1.684674e+10</td>\n",
       "      <td>1.872300e+10</td>\n",
       "      <td>2.029794e+10</td>\n",
       "      <td>1.894907e+10</td>\n",
       "      <td>1.189592e+10</td>\n",
       "      <td>2.117911e+10</td>\n",
       "      <td>2.176323e+10</td>\n",
       "      <td>2.425332e+10</td>\n",
       "      <td>2.678449e+10</td>\n",
       "      <td>2.353720e+10</td>\n",
       "      <td>1.934411e+11</td>\n",
       "      <td>2.160839</td>\n",
       "      <td>5.780697e+02</td>\n",
       "      <td>6.054774e+02</td>\n",
       "      <td>6.315916e+02</td>\n",
       "      <td>6.556516e+02</td>\n",
       "      <td>6.751516e+02</td>\n",
       "      <td>6.911287e+02</td>\n",
       "      <td>7.040640e+02</td>\n",
       "      <td>7.145788e+02</td>\n",
       "      <td>7.224868e+02</td>\n",
       "      <td>7.271290e+02</td>\n",
       "      <td>7.283779e+02</td>\n",
       "      <td>7.266484e+02</td>\n",
       "      <td>7.228327e+02</td>\n",
       "      <td>7.176899e+02</td>\n",
       "      <td>7.113072e+02</td>\n",
       "      <td>7.034274e+02</td>\n",
       "      <td>6.940296e+02</td>\n",
       "      <td>NaN</td>\n",
       "    </tr>\n",
       "    <tr>\n",
       "      <th>std</th>\n",
       "      <td>1.211687e+11</td>\n",
       "      <td>1.804814e+11</td>\n",
       "      <td>1.914083e+11</td>\n",
       "      <td>2.059170e+11</td>\n",
       "      <td>2.112150e+11</td>\n",
       "      <td>1.375059e+11</td>\n",
       "      <td>2.215546e+11</td>\n",
       "      <td>2.325489e+11</td>\n",
       "      <td>2.473986e+11</td>\n",
       "      <td>2.660957e+11</td>\n",
       "      <td>1.780774e+11</td>\n",
       "      <td>2.744142e+11</td>\n",
       "      <td>2.790549e+11</td>\n",
       "      <td>2.823809e+11</td>\n",
       "      <td>2.940635e+11</td>\n",
       "      <td>2.002929e+11</td>\n",
       "      <td>3.264675e+11</td>\n",
       "      <td>3.535351e+11</td>\n",
       "      <td>3.804257e+11</td>\n",
       "      <td>4.014873e+11</td>\n",
       "      <td>3.665667e+11</td>\n",
       "      <td>4.881357e+11</td>\n",
       "      <td>5.012055e+11</td>\n",
       "      <td>5.121962e+11</td>\n",
       "      <td>5.292982e+11</td>\n",
       "      <td>4.285218e+11</td>\n",
       "      <td>5.812586e+11</td>\n",
       "      <td>6.142357e+11</td>\n",
       "      <td>5.859148e+11</td>\n",
       "      <td>5.153472e+11</td>\n",
       "      <td>4.442374e+11</td>\n",
       "      <td>5.449242e+11</td>\n",
       "      <td>5.622886e+11</td>\n",
       "      <td>5.803607e+11</td>\n",
       "      <td>6.278337e+11</td>\n",
       "      <td>5.576181e+11</td>\n",
       "      <td>6.851484e+11</td>\n",
       "      <td>7.465688e+11</td>\n",
       "      <td>7.944132e+11</td>\n",
       "      <td>7.623650e+11</td>\n",
       "      <td>6.218710e+11</td>\n",
       "      <td>8.555853e+11</td>\n",
       "      <td>8.833955e+11</td>\n",
       "      <td>9.513016e+11</td>\n",
       "      <td>1.023180e+12</td>\n",
       "      <td>9.732465e+11</td>\n",
       "      <td>2.839188e+12</td>\n",
       "      <td>0.810584</td>\n",
       "      <td>1.475072e+04</td>\n",
       "      <td>1.577305e+04</td>\n",
       "      <td>1.678556e+04</td>\n",
       "      <td>1.778666e+04</td>\n",
       "      <td>1.874408e+04</td>\n",
       "      <td>1.965409e+04</td>\n",
       "      <td>2.052941e+04</td>\n",
       "      <td>2.136851e+04</td>\n",
       "      <td>2.215845e+04</td>\n",
       "      <td>2.287990e+04</td>\n",
       "      <td>2.352338e+04</td>\n",
       "      <td>2.408149e+04</td>\n",
       "      <td>2.455897e+04</td>\n",
       "      <td>2.496587e+04</td>\n",
       "      <td>2.530183e+04</td>\n",
       "      <td>2.556069e+04</td>\n",
       "      <td>2.574189e+04</td>\n",
       "      <td>NaN</td>\n",
       "    </tr>\n",
       "    <tr>\n",
       "      <th>min</th>\n",
       "      <td>-1.435564e+00</td>\n",
       "      <td>-1.594625e+00</td>\n",
       "      <td>-3.056522e+00</td>\n",
       "      <td>-4.032582e+00</td>\n",
       "      <td>-4.213563e+00</td>\n",
       "      <td>-3.658569e+00</td>\n",
       "      <td>-2.950945e+00</td>\n",
       "      <td>-3.174870e+00</td>\n",
       "      <td>-3.558749e+00</td>\n",
       "      <td>-2.973612e+00</td>\n",
       "      <td>-1.404240e+00</td>\n",
       "      <td>-1.478345e+00</td>\n",
       "      <td>-2.358765e+00</td>\n",
       "      <td>-2.867273e+00</td>\n",
       "      <td>-2.800548e+00</td>\n",
       "      <td>-2.216315e+00</td>\n",
       "      <td>-1.556722e+00</td>\n",
       "      <td>-1.410886e+00</td>\n",
       "      <td>-1.425202e+00</td>\n",
       "      <td>-1.562425e+00</td>\n",
       "      <td>-1.803750e+00</td>\n",
       "      <td>-5.814339e+00</td>\n",
       "      <td>-5.089333e+00</td>\n",
       "      <td>-6.184857e+00</td>\n",
       "      <td>-4.792691e+00</td>\n",
       "      <td>-2.697722e+00</td>\n",
       "      <td>-3.820174e+00</td>\n",
       "      <td>-2.517245e+00</td>\n",
       "      <td>-6.086200e+04</td>\n",
       "      <td>-6.526000e+04</td>\n",
       "      <td>-6.759300e+04</td>\n",
       "      <td>-6.973700e+04</td>\n",
       "      <td>-9.214300e+04</td>\n",
       "      <td>-1.111860e+05</td>\n",
       "      <td>-1.262600e+05</td>\n",
       "      <td>-1.347240e+05</td>\n",
       "      <td>-3.708940e+05</td>\n",
       "      <td>-3.882170e+05</td>\n",
       "      <td>-4.088540e+05</td>\n",
       "      <td>-4.561240e+05</td>\n",
       "      <td>-4.969050e+05</td>\n",
       "      <td>-5.709940e+05</td>\n",
       "      <td>-6.049930e+05</td>\n",
       "      <td>-6.157480e+05</td>\n",
       "      <td>-8.900000e+01</td>\n",
       "      <td>-2.467847e+00</td>\n",
       "      <td>-1.797539e+00</td>\n",
       "      <td>1.000000</td>\n",
       "      <td>-1.870000e+00</td>\n",
       "      <td>-2.000000e+00</td>\n",
       "      <td>-2.110000e+00</td>\n",
       "      <td>-2.150000e+00</td>\n",
       "      <td>-2.140000e+00</td>\n",
       "      <td>-2.090000e+00</td>\n",
       "      <td>-1.980000e+00</td>\n",
       "      <td>-1.830000e+00</td>\n",
       "      <td>-1.630000e+00</td>\n",
       "      <td>-1.440000e+00</td>\n",
       "      <td>-1.260000e+00</td>\n",
       "      <td>-1.090000e+00</td>\n",
       "      <td>-9.200000e-01</td>\n",
       "      <td>-7.800000e-01</td>\n",
       "      <td>-6.500000e-01</td>\n",
       "      <td>-5.500000e-01</td>\n",
       "      <td>-4.500000e-01</td>\n",
       "      <td>NaN</td>\n",
       "    </tr>\n",
       "    <tr>\n",
       "      <th>25%</th>\n",
       "      <td>8.900000e-01</td>\n",
       "      <td>8.853210e+00</td>\n",
       "      <td>9.240920e+00</td>\n",
       "      <td>9.595200e+00</td>\n",
       "      <td>9.861595e+00</td>\n",
       "      <td>1.400000e+00</td>\n",
       "      <td>9.312615e+00</td>\n",
       "      <td>9.519913e+00</td>\n",
       "      <td>1.000000e+01</td>\n",
       "      <td>1.000000e+01</td>\n",
       "      <td>1.770000e+00</td>\n",
       "      <td>9.468690e+00</td>\n",
       "      <td>9.989330e+00</td>\n",
       "      <td>9.581825e+00</td>\n",
       "      <td>9.068048e+00</td>\n",
       "      <td>2.150000e+00</td>\n",
       "      <td>9.332923e+00</td>\n",
       "      <td>9.595330e+00</td>\n",
       "      <td>9.715503e+00</td>\n",
       "      <td>9.679637e+00</td>\n",
       "      <td>4.830000e+00</td>\n",
       "      <td>5.134554e+01</td>\n",
       "      <td>4.933854e+01</td>\n",
       "      <td>4.944877e+01</td>\n",
       "      <td>4.783283e+01</td>\n",
       "      <td>5.200000e+00</td>\n",
       "      <td>4.836486e+01</td>\n",
       "      <td>5.510854e+01</td>\n",
       "      <td>3.346871e+01</td>\n",
       "      <td>1.749051e+01</td>\n",
       "      <td>5.699035e+00</td>\n",
       "      <td>1.599897e+01</td>\n",
       "      <td>1.584246e+01</td>\n",
       "      <td>1.550983e+01</td>\n",
       "      <td>1.418687e+01</td>\n",
       "      <td>5.720000e+00</td>\n",
       "      <td>1.277624e+01</td>\n",
       "      <td>1.268661e+01</td>\n",
       "      <td>1.233467e+01</td>\n",
       "      <td>1.181939e+01</td>\n",
       "      <td>1.322703e+00</td>\n",
       "      <td>1.216330e+01</td>\n",
       "      <td>1.100000e+01</td>\n",
       "      <td>1.306113e+01</td>\n",
       "      <td>1.614639e+01</td>\n",
       "      <td>4.100000e-01</td>\n",
       "      <td>1.826761e+01</td>\n",
       "      <td>2.000000</td>\n",
       "      <td>6.000000e-02</td>\n",
       "      <td>6.000000e-02</td>\n",
       "      <td>6.000000e-02</td>\n",
       "      <td>6.000000e-02</td>\n",
       "      <td>5.000000e-02</td>\n",
       "      <td>5.000000e-02</td>\n",
       "      <td>4.000000e-02</td>\n",
       "      <td>3.000000e-02</td>\n",
       "      <td>3.000000e-02</td>\n",
       "      <td>3.000000e-02</td>\n",
       "      <td>2.000000e-02</td>\n",
       "      <td>2.000000e-02</td>\n",
       "      <td>1.000000e-02</td>\n",
       "      <td>1.000000e-02</td>\n",
       "      <td>1.000000e-02</td>\n",
       "      <td>1.000000e-02</td>\n",
       "      <td>1.000000e-02</td>\n",
       "      <td>NaN</td>\n",
       "    </tr>\n",
       "    <tr>\n",
       "      <th>50%</th>\n",
       "      <td>6.317724e+00</td>\n",
       "      <td>6.316240e+01</td>\n",
       "      <td>6.655139e+01</td>\n",
       "      <td>6.969595e+01</td>\n",
       "      <td>7.087760e+01</td>\n",
       "      <td>9.677420e+00</td>\n",
       "      <td>7.101590e+01</td>\n",
       "      <td>7.133326e+01</td>\n",
       "      <td>7.290512e+01</td>\n",
       "      <td>7.510173e+01</td>\n",
       "      <td>1.107000e+01</td>\n",
       "      <td>7.467213e+01</td>\n",
       "      <td>7.710972e+01</td>\n",
       "      <td>7.592528e+01</td>\n",
       "      <td>7.533138e+01</td>\n",
       "      <td>1.200000e+01</td>\n",
       "      <td>7.409428e+01</td>\n",
       "      <td>7.357014e+01</td>\n",
       "      <td>7.354275e+01</td>\n",
       "      <td>7.935322e+01</td>\n",
       "      <td>5.048379e+01</td>\n",
       "      <td>3.916000e+04</td>\n",
       "      <td>3.477300e+04</td>\n",
       "      <td>3.497100e+04</td>\n",
       "      <td>3.182500e+04</td>\n",
       "      <td>5.018663e+01</td>\n",
       "      <td>3.262400e+04</td>\n",
       "      <td>4.319600e+04</td>\n",
       "      <td>1.521400e+04</td>\n",
       "      <td>1.251000e+03</td>\n",
       "      <td>5.078717e+01</td>\n",
       "      <td>8.300000e+02</td>\n",
       "      <td>9.460000e+02</td>\n",
       "      <td>3.956150e+02</td>\n",
       "      <td>3.350000e+02</td>\n",
       "      <td>5.031512e+01</td>\n",
       "      <td>9.981849e+01</td>\n",
       "      <td>1.000000e+02</td>\n",
       "      <td>1.000000e+02</td>\n",
       "      <td>9.925039e+01</td>\n",
       "      <td>2.046020e+01</td>\n",
       "      <td>9.853510e+01</td>\n",
       "      <td>9.759012e+01</td>\n",
       "      <td>1.000000e+02</td>\n",
       "      <td>1.000000e+02</td>\n",
       "      <td>5.235000e+01</td>\n",
       "      <td>6.264000e+03</td>\n",
       "      <td>2.000000</td>\n",
       "      <td>2.300000e-01</td>\n",
       "      <td>2.300000e-01</td>\n",
       "      <td>2.300000e-01</td>\n",
       "      <td>2.300000e-01</td>\n",
       "      <td>2.300000e-01</td>\n",
       "      <td>2.300000e-01</td>\n",
       "      <td>2.300000e-01</td>\n",
       "      <td>2.300000e-01</td>\n",
       "      <td>2.300000e-01</td>\n",
       "      <td>2.300000e-01</td>\n",
       "      <td>2.300000e-01</td>\n",
       "      <td>2.300000e-01</td>\n",
       "      <td>2.300000e-01</td>\n",
       "      <td>2.300000e-01</td>\n",
       "      <td>2.300000e-01</td>\n",
       "      <td>2.300000e-01</td>\n",
       "      <td>2.200000e-01</td>\n",
       "      <td>NaN</td>\n",
       "    </tr>\n",
       "    <tr>\n",
       "      <th>75%</th>\n",
       "      <td>6.251250e+01</td>\n",
       "      <td>5.655200e+04</td>\n",
       "      <td>5.863650e+04</td>\n",
       "      <td>6.202900e+04</td>\n",
       "      <td>6.383675e+04</td>\n",
       "      <td>7.854163e+01</td>\n",
       "      <td>5.682800e+04</td>\n",
       "      <td>5.739175e+04</td>\n",
       "      <td>5.940425e+04</td>\n",
       "      <td>6.411500e+04</td>\n",
       "      <td>8.202760e+01</td>\n",
       "      <td>6.310400e+04</td>\n",
       "      <td>6.923300e+04</td>\n",
       "      <td>6.304125e+04</td>\n",
       "      <td>6.360700e+04</td>\n",
       "      <td>8.338313e+01</td>\n",
       "      <td>6.608525e+04</td>\n",
       "      <td>7.001100e+04</td>\n",
       "      <td>7.597875e+04</td>\n",
       "      <td>8.558375e+04</td>\n",
       "      <td>9.134300e+04</td>\n",
       "      <td>4.383130e+05</td>\n",
       "      <td>4.246125e+05</td>\n",
       "      <td>4.316250e+05</td>\n",
       "      <td>4.244605e+05</td>\n",
       "      <td>7.954000e+04</td>\n",
       "      <td>4.371055e+05</td>\n",
       "      <td>4.909700e+05</td>\n",
       "      <td>3.768212e+05</td>\n",
       "      <td>1.867360e+05</td>\n",
       "      <td>3.343950e+04</td>\n",
       "      <td>1.746540e+05</td>\n",
       "      <td>1.770990e+05</td>\n",
       "      <td>1.474790e+05</td>\n",
       "      <td>1.584082e+05</td>\n",
       "      <td>2.993150e+04</td>\n",
       "      <td>1.187198e+05</td>\n",
       "      <td>1.343790e+05</td>\n",
       "      <td>1.453855e+05</td>\n",
       "      <td>1.180412e+05</td>\n",
       "      <td>3.121000e+03</td>\n",
       "      <td>1.065065e+05</td>\n",
       "      <td>1.038168e+05</td>\n",
       "      <td>1.426480e+05</td>\n",
       "      <td>1.636440e+05</td>\n",
       "      <td>6.153575e+04</td>\n",
       "      <td>5.939590e+05</td>\n",
       "      <td>3.000000</td>\n",
       "      <td>6.660000e+00</td>\n",
       "      <td>6.900000e+00</td>\n",
       "      <td>7.062500e+00</td>\n",
       "      <td>7.300000e+00</td>\n",
       "      <td>7.400000e+00</td>\n",
       "      <td>7.432500e+00</td>\n",
       "      <td>7.500000e+00</td>\n",
       "      <td>7.500000e+00</td>\n",
       "      <td>7.505000e+00</td>\n",
       "      <td>7.500000e+00</td>\n",
       "      <td>7.300000e+00</td>\n",
       "      <td>7.100000e+00</td>\n",
       "      <td>6.722500e+00</td>\n",
       "      <td>6.080000e+00</td>\n",
       "      <td>5.462500e+00</td>\n",
       "      <td>4.680000e+00</td>\n",
       "      <td>4.032500e+00</td>\n",
       "      <td>NaN</td>\n",
       "    </tr>\n",
       "    <tr>\n",
       "      <th>max</th>\n",
       "      <td>1.903929e+13</td>\n",
       "      <td>1.986457e+13</td>\n",
       "      <td>2.100916e+13</td>\n",
       "      <td>2.238367e+13</td>\n",
       "      <td>2.282991e+13</td>\n",
       "      <td>2.300634e+13</td>\n",
       "      <td>2.424128e+13</td>\n",
       "      <td>2.521383e+13</td>\n",
       "      <td>2.622101e+13</td>\n",
       "      <td>2.730873e+13</td>\n",
       "      <td>2.784319e+13</td>\n",
       "      <td>2.837926e+13</td>\n",
       "      <td>2.848067e+13</td>\n",
       "      <td>2.916436e+13</td>\n",
       "      <td>3.048521e+13</td>\n",
       "      <td>3.166465e+13</td>\n",
       "      <td>3.271284e+13</td>\n",
       "      <td>3.388244e+13</td>\n",
       "      <td>3.545738e+13</td>\n",
       "      <td>3.678741e+13</td>\n",
       "      <td>4.714344e+13</td>\n",
       "      <td>4.781272e+13</td>\n",
       "      <td>4.866446e+13</td>\n",
       "      <td>4.959600e+13</td>\n",
       "      <td>5.106581e+13</td>\n",
       "      <td>5.275448e+13</td>\n",
       "      <td>5.478031e+13</td>\n",
       "      <td>5.695521e+13</td>\n",
       "      <td>5.835137e+13</td>\n",
       "      <td>6.040632e+13</td>\n",
       "      <td>6.327293e+13</td>\n",
       "      <td>6.477834e+13</td>\n",
       "      <td>6.654753e+13</td>\n",
       "      <td>6.906328e+13</td>\n",
       "      <td>7.278829e+13</td>\n",
       "      <td>7.624045e+13</td>\n",
       "      <td>8.031840e+13</td>\n",
       "      <td>8.469145e+13</td>\n",
       "      <td>8.711022e+13</td>\n",
       "      <td>8.677516e+13</td>\n",
       "      <td>9.134676e+13</td>\n",
       "      <td>9.506314e+13</td>\n",
       "      <td>9.999473e+13</td>\n",
       "      <td>1.054580e+14</td>\n",
       "      <td>1.108060e+14</td>\n",
       "      <td>1.156198e+14</td>\n",
       "      <td>1.206030e+14</td>\n",
       "      <td>4.000000</td>\n",
       "      <td>1.599479e+06</td>\n",
       "      <td>1.781898e+06</td>\n",
       "      <td>1.967258e+06</td>\n",
       "      <td>2.151416e+06</td>\n",
       "      <td>2.330336e+06</td>\n",
       "      <td>2.500439e+06</td>\n",
       "      <td>2.662071e+06</td>\n",
       "      <td>2.813670e+06</td>\n",
       "      <td>2.951569e+06</td>\n",
       "      <td>3.070879e+06</td>\n",
       "      <td>3.169711e+06</td>\n",
       "      <td>3.246239e+06</td>\n",
       "      <td>3.301586e+06</td>\n",
       "      <td>3.337871e+06</td>\n",
       "      <td>3.354746e+06</td>\n",
       "      <td>3.351887e+06</td>\n",
       "      <td>3.330484e+06</td>\n",
       "      <td>NaN</td>\n",
       "    </tr>\n",
       "  </tbody>\n",
       "</table>\n",
       "</div>"
      ],
      "text/plain": [
       "               1970          1971  ...          2100  Unnamed: 69\n",
       "count  7.228800e+04  3.553700e+04  ...  5.143600e+04          0.0\n",
       "mean   1.974772e+09  4.253638e+09  ...  6.940296e+02          NaN\n",
       "std    1.211687e+11  1.804814e+11  ...  2.574189e+04          NaN\n",
       "min   -1.435564e+00 -1.594625e+00  ... -4.500000e-01          NaN\n",
       "25%    8.900000e-01  8.853210e+00  ...  1.000000e-02          NaN\n",
       "50%    6.317724e+00  6.316240e+01  ...  2.200000e-01          NaN\n",
       "75%    6.251250e+01  5.655200e+04  ...  4.032500e+00          NaN\n",
       "max    1.903929e+13  1.986457e+13  ...  3.330484e+06          NaN\n",
       "\n",
       "[8 rows x 66 columns]"
      ]
     },
     "execution_count": 11,
     "metadata": {
      "tags": []
     },
     "output_type": "execute_result"
    }
   ],
   "source": [
    "education.describe()"
   ]
  },
  {
   "cell_type": "code",
   "execution_count": null,
   "metadata": {
    "colab": {
     "base_uri": "https://localhost:8080/"
    },
    "id": "JyWpZ_bOxDxn",
    "outputId": "681aa21c-8155-479d-eee2-e164deefe633"
   },
   "outputs": [
    {
     "data": {
      "text/plain": [
       "Country Code                                           0\n",
       "Short Name                                             0\n",
       "Table Name                                             0\n",
       "Long Name                                              0\n",
       "2-alpha code                                           3\n",
       "Currency Unit                                         26\n",
       "Special Notes                                         96\n",
       "Region                                                27\n",
       "Income Group                                          27\n",
       "WB-2 code                                              1\n",
       "National accounts base year                           36\n",
       "National accounts reference year                     209\n",
       "SNA price valuation                                   44\n",
       "Lending category                                      97\n",
       "Other groups                                         183\n",
       "System of National Accounts                           26\n",
       "Alternative conversion factor                        194\n",
       "PPP survey year                                       96\n",
       "Balance of Payments Manual in use                     60\n",
       "External debt Reporting status                       117\n",
       "System of trade                                       41\n",
       "Government Accounting concept                         80\n",
       "IMF data dissemination standard                       60\n",
       "Latest population census                              28\n",
       "Latest household survey                              100\n",
       "Source of most recent Income and expenditure data     81\n",
       "Vital registration complete                          130\n",
       "Latest agricultural census                            99\n",
       "Latest industrial data                               134\n",
       "Latest trade data                                     56\n",
       "Latest water withdrawal data                          62\n",
       "Unnamed: 31                                          241\n",
       "dtype: int64"
      ]
     },
     "execution_count": 12,
     "metadata": {
      "tags": []
     },
     "output_type": "execute_result"
    }
   ],
   "source": [
    "country.isnull().sum()"
   ]
  },
  {
   "cell_type": "code",
   "execution_count": null,
   "metadata": {
    "colab": {
     "base_uri": "https://localhost:8080/"
    },
    "id": "iVdkMbeuxG2y",
    "outputId": "4528ed7f-795c-4ec9-a44d-b6ef27f9143c"
   },
   "outputs": [
    {
     "data": {
      "text/plain": [
       "Country Name           0\n",
       "Country Code           0\n",
       "Indicator Name         0\n",
       "Indicator Code         0\n",
       "1970              814642\n",
       "                   ...  \n",
       "2085              835494\n",
       "2090              835494\n",
       "2095              835494\n",
       "2100              835494\n",
       "Unnamed: 69       886930\n",
       "Length: 70, dtype: int64"
      ]
     },
     "execution_count": 13,
     "metadata": {
      "tags": []
     },
     "output_type": "execute_result"
    }
   ],
   "source": [
    "education.isnull().sum()"
   ]
  },
  {
   "cell_type": "markdown",
   "metadata": {
    "id": "vnuN4WH4Fh8E"
   },
   "source": [
    "# Data Preparation"
   ]
  },
  {
   "cell_type": "code",
   "execution_count": null,
   "metadata": {
    "colab": {
     "base_uri": "https://localhost:8080/"
    },
    "id": "3XrV5msQwGbP",
    "outputId": "2d97ab9e-1854-42c8-b047-41098fb35533"
   },
   "outputs": [
    {
     "data": {
      "text/plain": [
       "array([nan])"
      ]
     },
     "execution_count": 14,
     "metadata": {
      "tags": []
     },
     "output_type": "execute_result"
    }
   ],
   "source": [
    "country['Unnamed: 31'].unique()"
   ]
  },
  {
   "cell_type": "code",
   "execution_count": null,
   "metadata": {
    "colab": {
     "base_uri": "https://localhost:8080/"
    },
    "id": "9j_e1D0TwCrS",
    "outputId": "184dbd3a-2a8f-4019-fe5e-92a597d44124"
   },
   "outputs": [
    {
     "data": {
      "text/plain": [
       "array([nan])"
      ]
     },
     "execution_count": 15,
     "metadata": {
      "tags": []
     },
     "output_type": "execute_result"
    }
   ],
   "source": [
    "education['Unnamed: 69'].unique()"
   ]
  },
  {
   "cell_type": "code",
   "execution_count": null,
   "metadata": {
    "id": "VUw8K9D1w7ef"
   },
   "outputs": [],
   "source": [
    "country.drop('Unnamed: 31', axis='columns', inplace=True)\n",
    "education.drop('Unnamed: 69', axis='columns', inplace=True)"
   ]
  },
  {
   "cell_type": "code",
   "execution_count": null,
   "metadata": {
    "id": "VfwPjTrlGj0a"
   },
   "outputs": [],
   "source": [
    "education = education.melt(id_vars=['Country Name', 'Country Code', 'Indicator Name', 'Indicator Code'], \n",
    "        var_name='Year', \n",
    "        value_name='Value')"
   ]
  },
  {
   "cell_type": "code",
   "execution_count": null,
   "metadata": {
    "colab": {
     "base_uri": "https://localhost:8080/"
    },
    "id": "yj-hwpewGp-7",
    "outputId": "46648068-c713-47be-a277-74eecc9ec078"
   },
   "outputs": [
    {
     "name": "stdout",
     "output_type": "stream",
     "text": [
      "<class 'pandas.core.frame.DataFrame'>\n",
      "RangeIndex: 57650450 entries, 0 to 57650449\n",
      "Data columns (total 6 columns):\n",
      " #   Column          Dtype  \n",
      "---  ------          -----  \n",
      " 0   Country Name    object \n",
      " 1   Country Code    object \n",
      " 2   Indicator Name  object \n",
      " 3   Indicator Code  object \n",
      " 4   Year            object \n",
      " 5   Value           float64\n",
      "dtypes: float64(1), object(5)\n",
      "memory usage: 2.6+ GB\n"
     ]
    }
   ],
   "source": [
    "education.info()"
   ]
  },
  {
   "cell_type": "code",
   "execution_count": null,
   "metadata": {
    "colab": {
     "base_uri": "https://localhost:8080/"
    },
    "id": "ifjwwnCSjMqa",
    "outputId": "088fc82d-f538-459d-9bcf-ec45efc5a777"
   },
   "outputs": [
    {
     "name": "stdout",
     "output_type": "stream",
     "text": [
      "<class 'pandas.core.frame.DataFrame'>\n",
      "RangeIndex: 57650450 entries, 0 to 57650449\n",
      "Data columns (total 6 columns):\n",
      " #   Column          Dtype  \n",
      "---  ------          -----  \n",
      " 0   Country Name    object \n",
      " 1   Country Code    object \n",
      " 2   Indicator Name  object \n",
      " 3   Indicator Code  object \n",
      " 4   Year            object \n",
      " 5   Value           float64\n",
      "dtypes: float64(1), object(5)\n",
      "memory usage: 2.6+ GB\n"
     ]
    }
   ],
   "source": [
    "education.info()"
   ]
  },
  {
   "cell_type": "code",
   "execution_count": null,
   "metadata": {
    "id": "BGAP5cLSzZD8"
   },
   "outputs": [],
   "source": [
    "education['Year'] = pd.to_datetime(education['Year'], format='%Y')"
   ]
  },
  {
   "cell_type": "code",
   "execution_count": null,
   "metadata": {
    "colab": {
     "base_uri": "https://localhost:8080/"
    },
    "id": "UZakLvIPzr18",
    "outputId": "899147dd-9ed3-400c-cc8d-d404d11986b0"
   },
   "outputs": [
    {
     "name": "stdout",
     "output_type": "stream",
     "text": [
      "<class 'pandas.core.frame.DataFrame'>\n",
      "RangeIndex: 57650450 entries, 0 to 57650449\n",
      "Data columns (total 6 columns):\n",
      " #   Column          Dtype         \n",
      "---  ------          -----         \n",
      " 0   Country Name    object        \n",
      " 1   Country Code    object        \n",
      " 2   Indicator Name  object        \n",
      " 3   Indicator Code  object        \n",
      " 4   Year            datetime64[ns]\n",
      " 5   Value           float64       \n",
      "dtypes: datetime64[ns](1), float64(1), object(4)\n",
      "memory usage: 2.6+ GB\n"
     ]
    }
   ],
   "source": [
    "education.info()"
   ]
  },
  {
   "cell_type": "code",
   "execution_count": null,
   "metadata": {
    "colab": {
     "base_uri": "https://localhost:8080/",
     "height": 204
    },
    "id": "Vz3ZnhQNzz6t",
    "outputId": "10c6c8c4-fc8e-4fd0-b97e-21f51d68a713"
   },
   "outputs": [
    {
     "data": {
      "text/html": [
       "<div>\n",
       "<style scoped>\n",
       "    .dataframe tbody tr th:only-of-type {\n",
       "        vertical-align: middle;\n",
       "    }\n",
       "\n",
       "    .dataframe tbody tr th {\n",
       "        vertical-align: top;\n",
       "    }\n",
       "\n",
       "    .dataframe thead th {\n",
       "        text-align: right;\n",
       "    }\n",
       "</style>\n",
       "<table border=\"1\" class=\"dataframe\">\n",
       "  <thead>\n",
       "    <tr style=\"text-align: right;\">\n",
       "      <th></th>\n",
       "      <th>Country Name</th>\n",
       "      <th>Country Code</th>\n",
       "      <th>Indicator Name</th>\n",
       "      <th>Indicator Code</th>\n",
       "      <th>Year</th>\n",
       "      <th>Value</th>\n",
       "    </tr>\n",
       "  </thead>\n",
       "  <tbody>\n",
       "    <tr>\n",
       "      <th>0</th>\n",
       "      <td>Arab World</td>\n",
       "      <td>ARB</td>\n",
       "      <td>Adjusted net enrolment rate, lower secondary, ...</td>\n",
       "      <td>UIS.NERA.2</td>\n",
       "      <td>1970-01-01</td>\n",
       "      <td>NaN</td>\n",
       "    </tr>\n",
       "    <tr>\n",
       "      <th>1</th>\n",
       "      <td>Arab World</td>\n",
       "      <td>ARB</td>\n",
       "      <td>Adjusted net enrolment rate, lower secondary, ...</td>\n",
       "      <td>UIS.NERA.2.F</td>\n",
       "      <td>1970-01-01</td>\n",
       "      <td>NaN</td>\n",
       "    </tr>\n",
       "    <tr>\n",
       "      <th>2</th>\n",
       "      <td>Arab World</td>\n",
       "      <td>ARB</td>\n",
       "      <td>Adjusted net enrolment rate, lower secondary, ...</td>\n",
       "      <td>UIS.NERA.2.GPI</td>\n",
       "      <td>1970-01-01</td>\n",
       "      <td>NaN</td>\n",
       "    </tr>\n",
       "    <tr>\n",
       "      <th>3</th>\n",
       "      <td>Arab World</td>\n",
       "      <td>ARB</td>\n",
       "      <td>Adjusted net enrolment rate, lower secondary, ...</td>\n",
       "      <td>UIS.NERA.2.M</td>\n",
       "      <td>1970-01-01</td>\n",
       "      <td>NaN</td>\n",
       "    </tr>\n",
       "    <tr>\n",
       "      <th>4</th>\n",
       "      <td>Arab World</td>\n",
       "      <td>ARB</td>\n",
       "      <td>Adjusted net enrolment rate, primary, both sex...</td>\n",
       "      <td>SE.PRM.TENR</td>\n",
       "      <td>1970-01-01</td>\n",
       "      <td>54.822121</td>\n",
       "    </tr>\n",
       "  </tbody>\n",
       "</table>\n",
       "</div>"
      ],
      "text/plain": [
       "  Country Name Country Code  ...       Year      Value\n",
       "0   Arab World          ARB  ... 1970-01-01        NaN\n",
       "1   Arab World          ARB  ... 1970-01-01        NaN\n",
       "2   Arab World          ARB  ... 1970-01-01        NaN\n",
       "3   Arab World          ARB  ... 1970-01-01        NaN\n",
       "4   Arab World          ARB  ... 1970-01-01  54.822121\n",
       "\n",
       "[5 rows x 6 columns]"
      ]
     },
     "execution_count": 22,
     "metadata": {
      "tags": []
     },
     "output_type": "execute_result"
    }
   ],
   "source": [
    "education.head()"
   ]
  },
  {
   "cell_type": "code",
   "execution_count": null,
   "metadata": {
    "id": "HdTQli1L1_SN"
   },
   "outputs": [],
   "source": [
    "education = education.dropna()"
   ]
  },
  {
   "cell_type": "code",
   "execution_count": null,
   "metadata": {
    "colab": {
     "base_uri": "https://localhost:8080/"
    },
    "id": "ks9kinM41azD",
    "outputId": "00b2d97c-79d4-476f-9900-c08a5d7011d6"
   },
   "outputs": [
    {
     "data": {
      "text/plain": [
       "array(['Adjusted net enrolment rate, primary, both sexes (%)',\n",
       "       'Adjusted net enrolment rate, primary, female (%)',\n",
       "       'Adjusted net enrolment rate, primary, gender parity index (GPI)',\n",
       "       ...,\n",
       "       'SABER: (Tertiary Education) Policy Goal 6 Lever 2: Fostering RDI and Innovation',\n",
       "       'SABER: (Tertiary Education) Policy Goal 6 Lever 3: Fostering Social and Cultural Development and Environmental Protection and Sustainability',\n",
       "       'SABER: (Tertiary Education) Policy Goal 6: The Relevance of Tertiary Education for Economic and Social Needs'],\n",
       "      dtype=object)"
      ]
     },
     "execution_count": 24,
     "metadata": {
      "tags": []
     },
     "output_type": "execute_result"
    }
   ],
   "source": [
    "education['Indicator Name'].unique()"
   ]
  },
  {
   "cell_type": "markdown",
   "metadata": {
    "id": "P79FdmIKF8IE"
   },
   "source": [
    "# Data Visualization"
   ]
  },
  {
   "cell_type": "markdown",
   "metadata": {
    "id": "HPscvvoCsMJK"
   },
   "source": [
    "## GDP per capita, PPP (current international $) Thailand vs World"
   ]
  },
  {
   "cell_type": "code",
   "execution_count": null,
   "metadata": {
    "id": "HdQTJmyGsMBF"
   },
   "outputs": [],
   "source": [
    "gdp = education[(education['Indicator Name'] == 'GDP per capita, PPP (current international $)') & (education['Year'] >= '2000-01-01') & (education['Year'] <= '2015-12-31')]"
   ]
  },
  {
   "cell_type": "code",
   "execution_count": null,
   "metadata": {
    "colab": {
     "base_uri": "https://localhost:8080/",
     "height": 204
    },
    "id": "ZYLmLuSssjG4",
    "outputId": "96af2bec-015f-46ed-c6f4-b62ab4f26312"
   },
   "outputs": [
    {
     "data": {
      "text/html": [
       "<div>\n",
       "<style scoped>\n",
       "    .dataframe tbody tr th:only-of-type {\n",
       "        vertical-align: middle;\n",
       "    }\n",
       "\n",
       "    .dataframe tbody tr th {\n",
       "        vertical-align: top;\n",
       "    }\n",
       "\n",
       "    .dataframe thead th {\n",
       "        text-align: right;\n",
       "    }\n",
       "</style>\n",
       "<table border=\"1\" class=\"dataframe\">\n",
       "  <thead>\n",
       "    <tr style=\"text-align: right;\">\n",
       "      <th></th>\n",
       "      <th>Country Name</th>\n",
       "      <th>Country Code</th>\n",
       "      <th>Indicator Name</th>\n",
       "      <th>Indicator Code</th>\n",
       "      <th>Year</th>\n",
       "      <th>Value</th>\n",
       "    </tr>\n",
       "  </thead>\n",
       "  <tbody>\n",
       "    <tr>\n",
       "      <th>26697107</th>\n",
       "      <td>World</td>\n",
       "      <td>WLD</td>\n",
       "      <td>GDP per capita, PPP (current international $)</td>\n",
       "      <td>NY.GDP.PCAP.PP.CD</td>\n",
       "      <td>2000-01-01</td>\n",
       "      <td>7926.047904</td>\n",
       "    </tr>\n",
       "    <tr>\n",
       "      <th>27404452</th>\n",
       "      <td>Thailand</td>\n",
       "      <td>THA</td>\n",
       "      <td>GDP per capita, PPP (current international $)</td>\n",
       "      <td>NY.GDP.PCAP.PP.CD</td>\n",
       "      <td>2000-01-01</td>\n",
       "      <td>7283.511290</td>\n",
       "    </tr>\n",
       "    <tr>\n",
       "      <th>27584037</th>\n",
       "      <td>World</td>\n",
       "      <td>WLD</td>\n",
       "      <td>GDP per capita, PPP (current international $)</td>\n",
       "      <td>NY.GDP.PCAP.PP.CD</td>\n",
       "      <td>2001-01-01</td>\n",
       "      <td>8208.189373</td>\n",
       "    </tr>\n",
       "    <tr>\n",
       "      <th>28291382</th>\n",
       "      <td>Thailand</td>\n",
       "      <td>THA</td>\n",
       "      <td>GDP per capita, PPP (current international $)</td>\n",
       "      <td>NY.GDP.PCAP.PP.CD</td>\n",
       "      <td>2001-01-01</td>\n",
       "      <td>7635.093003</td>\n",
       "    </tr>\n",
       "    <tr>\n",
       "      <th>28470967</th>\n",
       "      <td>World</td>\n",
       "      <td>WLD</td>\n",
       "      <td>GDP per capita, PPP (current international $)</td>\n",
       "      <td>NY.GDP.PCAP.PP.CD</td>\n",
       "      <td>2002-01-01</td>\n",
       "      <td>8484.916473</td>\n",
       "    </tr>\n",
       "  </tbody>\n",
       "</table>\n",
       "</div>"
      ],
      "text/plain": [
       "         Country Name Country Code  ...       Year        Value\n",
       "26697107        World          WLD  ... 2000-01-01  7926.047904\n",
       "27404452     Thailand          THA  ... 2000-01-01  7283.511290\n",
       "27584037        World          WLD  ... 2001-01-01  8208.189373\n",
       "28291382     Thailand          THA  ... 2001-01-01  7635.093003\n",
       "28470967        World          WLD  ... 2002-01-01  8484.916473\n",
       "\n",
       "[5 rows x 6 columns]"
      ]
     },
     "execution_count": 26,
     "metadata": {
      "tags": []
     },
     "output_type": "execute_result"
    }
   ],
   "source": [
    "gdp_th_world = gdp[(gdp['Country Name'] == 'Thailand') | (gdp['Country Name'] == 'World')]\n",
    "gdp_th_world.head()"
   ]
  },
  {
   "cell_type": "code",
   "execution_count": null,
   "metadata": {
    "colab": {
     "base_uri": "https://localhost:8080/",
     "height": 910
    },
    "id": "QqmZT4RQsr-O",
    "outputId": "f20bc492-c5fb-4eee-fa01-fbeb473f7038"
   },
   "outputs": [
    {
     "data": {
      "text/plain": [
       "Text(0, 0.5, 'GDP per capita, PPP (current international $)')"
      ]
     },
     "execution_count": 27,
     "metadata": {
      "tags": []
     },
     "output_type": "execute_result"
    },
    {
     "data": {
      "image/png": "[encoded data removed]",
      "text/plain": [
       "<Figure size 1440x1080 with 1 Axes>"
      ]
     },
     "metadata": {
      "tags": []
     },
     "output_type": "display_data"
    }
   ],
   "source": [
    "plt.figure(figsize=(20,15))\n",
    "\n",
    "ax = sns.lineplot(data=gdp_th_world, x=\"Year\", y=\"Value\", hue='Country Name')\n",
    "\n",
    "ax.set_title(\"GDP per capita, PPP (current international $) of Thailand vs World from 2000 to 2015\")\n",
    "ax.set_xlabel('Year')\n",
    "ax.set_ylabel('GDP per capita, PPP (current international $)')"
   ]
  },
  {
   "cell_type": "markdown",
   "metadata": {
    "id": "QFlJCBw8ssd0"
   },
   "source": [
    "In this time-series plot, it shows that gross domestic product scaled with purchasing power parity and current international dollars. It means the GDP is scaled to the current value of dollars unit and apply the scaling on the price of common goods to have the same scale for comparison. It can be seen that comparing Thailand to the average of the world, Thailand is doing quite good. Because the GDP (PPP) of Thailand over time is around the average from 2000 to 2015. GDP is one of a very good indicator on how each country doing in term of economic. As generally know that economic status can affect other aspects of the country, for example, education, politics, health services."
   ]
  },
  {
   "cell_type": "code",
   "execution_count": null,
   "metadata": {
    "colab": {
     "base_uri": "https://localhost:8080/",
     "height": 910
    },
    "id": "5F0km2og6g7z",
    "outputId": "c2fe94bc-0f34-43b2-b20e-7590539da19c"
   },
   "outputs": [
    {
     "data": {
      "text/plain": [
       "Text(0.5, 0, 'GDP per capita, PPP (current international $)')"
      ]
     },
     "execution_count": 28,
     "metadata": {
      "tags": []
     },
     "output_type": "execute_result"
    },
    {
     "data": {
      "image/png": "[encoded data removed]",
      "text/plain": [
       "<Figure size 1440x1080 with 1 Axes>"
      ]
     },
     "metadata": {
      "tags": []
     },
     "output_type": "display_data"
    }
   ],
   "source": [
    "plt.figure(figsize=(20,15))\n",
    "\n",
    "ax = sns.boxplot(x=\"Value\", data=gdp)\n",
    "\n",
    "ax.set_title(\"GDP per capita, PPP (current international $) of whole World from 2000 to 2015\")\n",
    "ax.set_xlabel('GDP per capita, PPP (current international $)')"
   ]
  },
  {
   "cell_type": "markdown",
   "metadata": {
    "id": "rwSukfov6o1o"
   },
   "source": [
    "Observing the boxplot and it can be seen that most country fall below the average, so Thailand doing around average is quite good to be said. But the maximum and minimum also very wide. So, some countries has very high and extremely low GDP."
   ]
  },
  {
   "cell_type": "markdown",
   "metadata": {
    "id": "YfprKWvaJhIL"
   },
   "source": [
    "## PISA Thailand vs World"
   ]
  },
  {
   "cell_type": "code",
   "execution_count": null,
   "metadata": {
    "id": "lpmq3Lafh_k_"
   },
   "outputs": [],
   "source": [
    "pisa_math = education[education['Indicator Name'] == 'PISA: Mean performance on the mathematics scale']\n",
    "pisa_read = education[education['Indicator Name'] == 'PISA: Mean performance on the reading scale']\n",
    "pisa_sci = education[education['Indicator Name'] == 'PISA: Mean performance on the science scale']"
   ]
  },
  {
   "cell_type": "code",
   "execution_count": null,
   "metadata": {
    "id": "hDTMCyrKnnJ7"
   },
   "outputs": [],
   "source": [
    "pisa_math_th = pisa_math[pisa_math['Country Name'] == 'Thailand']\n",
    "pisa_read_th = pisa_read[pisa_read['Country Name'] == 'Thailand']\n",
    "pisa_sci_th = pisa_sci[pisa_sci['Country Name'] == 'Thailand']"
   ]
  },
  {
   "cell_type": "code",
   "execution_count": null,
   "metadata": {
    "colab": {
     "base_uri": "https://localhost:8080/",
     "height": 204
    },
    "id": "f7o6jXF6lgL3",
    "outputId": "d99e0c5e-2ed5-43d8-f91d-48ef7eeebcd0"
   },
   "outputs": [
    {
     "data": {
      "text/html": [
       "<div>\n",
       "<style scoped>\n",
       "    .dataframe tbody tr th:only-of-type {\n",
       "        vertical-align: middle;\n",
       "    }\n",
       "\n",
       "    .dataframe tbody tr th {\n",
       "        vertical-align: top;\n",
       "    }\n",
       "\n",
       "    .dataframe thead th {\n",
       "        text-align: right;\n",
       "    }\n",
       "</style>\n",
       "<table border=\"1\" class=\"dataframe\">\n",
       "  <thead>\n",
       "    <tr style=\"text-align: right;\">\n",
       "      <th></th>\n",
       "      <th>Year</th>\n",
       "      <th>Value</th>\n",
       "      <th>Country Name</th>\n",
       "      <th>Country Code</th>\n",
       "      <th>Indicator Name</th>\n",
       "      <th>Indicator Code</th>\n",
       "    </tr>\n",
       "  </thead>\n",
       "  <tbody>\n",
       "    <tr>\n",
       "      <th>0</th>\n",
       "      <td>2000-01-01</td>\n",
       "      <td>470.226190</td>\n",
       "      <td>World</td>\n",
       "      <td>WRD</td>\n",
       "      <td>PISA: Mean performance on the mathematics scale</td>\n",
       "      <td>LO.PISA.MAT</td>\n",
       "    </tr>\n",
       "    <tr>\n",
       "      <th>1</th>\n",
       "      <td>2003-01-01</td>\n",
       "      <td>485.760587</td>\n",
       "      <td>World</td>\n",
       "      <td>WRD</td>\n",
       "      <td>PISA: Mean performance on the mathematics scale</td>\n",
       "      <td>LO.PISA.MAT</td>\n",
       "    </tr>\n",
       "    <tr>\n",
       "      <th>2</th>\n",
       "      <td>2006-01-01</td>\n",
       "      <td>467.643993</td>\n",
       "      <td>World</td>\n",
       "      <td>WRD</td>\n",
       "      <td>PISA: Mean performance on the mathematics scale</td>\n",
       "      <td>LO.PISA.MAT</td>\n",
       "    </tr>\n",
       "    <tr>\n",
       "      <th>3</th>\n",
       "      <td>2009-01-01</td>\n",
       "      <td>461.926995</td>\n",
       "      <td>World</td>\n",
       "      <td>WRD</td>\n",
       "      <td>PISA: Mean performance on the mathematics scale</td>\n",
       "      <td>LO.PISA.MAT</td>\n",
       "    </tr>\n",
       "    <tr>\n",
       "      <th>4</th>\n",
       "      <td>2012-01-01</td>\n",
       "      <td>473.109462</td>\n",
       "      <td>World</td>\n",
       "      <td>WRD</td>\n",
       "      <td>PISA: Mean performance on the mathematics scale</td>\n",
       "      <td>LO.PISA.MAT</td>\n",
       "    </tr>\n",
       "  </tbody>\n",
       "</table>\n",
       "</div>"
      ],
      "text/plain": [
       "        Year  ...  Indicator Code\n",
       "0 2000-01-01  ...     LO.PISA.MAT\n",
       "1 2003-01-01  ...     LO.PISA.MAT\n",
       "2 2006-01-01  ...     LO.PISA.MAT\n",
       "3 2009-01-01  ...     LO.PISA.MAT\n",
       "4 2012-01-01  ...     LO.PISA.MAT\n",
       "\n",
       "[5 rows x 6 columns]"
      ]
     },
     "execution_count": 31,
     "metadata": {
      "tags": []
     },
     "output_type": "execute_result"
    }
   ],
   "source": [
    "pisa_math_mean_world = pisa_math.groupby('Year', as_index=False).mean()\n",
    "pisa_math_mean_world['Country Name'] = 'World'\n",
    "pisa_math_mean_world['Country Code'] = 'WRD'\n",
    "pisa_math_mean_world['Indicator Name'] = 'PISA: Mean performance on the mathematics scale'\n",
    "pisa_math_mean_world['Indicator Code'] = 'LO.PISA.MAT'\n",
    "pisa_math_mean_world.head()"
   ]
  },
  {
   "cell_type": "code",
   "execution_count": null,
   "metadata": {
    "colab": {
     "base_uri": "https://localhost:8080/",
     "height": 204
    },
    "id": "v9SmQzDtndbG",
    "outputId": "027dfede-ea60-4999-eaad-294c3379ec83"
   },
   "outputs": [
    {
     "data": {
      "text/html": [
       "<div>\n",
       "<style scoped>\n",
       "    .dataframe tbody tr th:only-of-type {\n",
       "        vertical-align: middle;\n",
       "    }\n",
       "\n",
       "    .dataframe tbody tr th {\n",
       "        vertical-align: top;\n",
       "    }\n",
       "\n",
       "    .dataframe thead th {\n",
       "        text-align: right;\n",
       "    }\n",
       "</style>\n",
       "<table border=\"1\" class=\"dataframe\">\n",
       "  <thead>\n",
       "    <tr style=\"text-align: right;\">\n",
       "      <th></th>\n",
       "      <th>Year</th>\n",
       "      <th>Value</th>\n",
       "      <th>Country Name</th>\n",
       "      <th>Country Code</th>\n",
       "      <th>Indicator Name</th>\n",
       "      <th>Indicator Code</th>\n",
       "    </tr>\n",
       "  </thead>\n",
       "  <tbody>\n",
       "    <tr>\n",
       "      <th>0</th>\n",
       "      <td>2000-01-01</td>\n",
       "      <td>471.349832</td>\n",
       "      <td>World</td>\n",
       "      <td>WRD</td>\n",
       "      <td>PISA: Mean performance on the reading scale</td>\n",
       "      <td>LO.PISA.REA</td>\n",
       "    </tr>\n",
       "    <tr>\n",
       "      <th>1</th>\n",
       "      <td>2003-01-01</td>\n",
       "      <td>480.876088</td>\n",
       "      <td>World</td>\n",
       "      <td>WRD</td>\n",
       "      <td>PISA: Mean performance on the reading scale</td>\n",
       "      <td>LO.PISA.REA</td>\n",
       "    </tr>\n",
       "    <tr>\n",
       "      <th>2</th>\n",
       "      <td>2006-01-01</td>\n",
       "      <td>458.893651</td>\n",
       "      <td>World</td>\n",
       "      <td>WRD</td>\n",
       "      <td>PISA: Mean performance on the reading scale</td>\n",
       "      <td>LO.PISA.REA</td>\n",
       "    </tr>\n",
       "    <tr>\n",
       "      <th>3</th>\n",
       "      <td>2009-01-01</td>\n",
       "      <td>458.963963</td>\n",
       "      <td>World</td>\n",
       "      <td>WRD</td>\n",
       "      <td>PISA: Mean performance on the reading scale</td>\n",
       "      <td>LO.PISA.REA</td>\n",
       "    </tr>\n",
       "    <tr>\n",
       "      <th>4</th>\n",
       "      <td>2012-01-01</td>\n",
       "      <td>473.204464</td>\n",
       "      <td>World</td>\n",
       "      <td>WRD</td>\n",
       "      <td>PISA: Mean performance on the reading scale</td>\n",
       "      <td>LO.PISA.REA</td>\n",
       "    </tr>\n",
       "  </tbody>\n",
       "</table>\n",
       "</div>"
      ],
      "text/plain": [
       "        Year  ...  Indicator Code\n",
       "0 2000-01-01  ...     LO.PISA.REA\n",
       "1 2003-01-01  ...     LO.PISA.REA\n",
       "2 2006-01-01  ...     LO.PISA.REA\n",
       "3 2009-01-01  ...     LO.PISA.REA\n",
       "4 2012-01-01  ...     LO.PISA.REA\n",
       "\n",
       "[5 rows x 6 columns]"
      ]
     },
     "execution_count": 32,
     "metadata": {
      "tags": []
     },
     "output_type": "execute_result"
    }
   ],
   "source": [
    "pisa_read_mean_world = pisa_read.groupby('Year', as_index=False).mean()\n",
    "pisa_read_mean_world['Country Name'] = 'World'\n",
    "pisa_read_mean_world['Country Code'] = 'WRD'\n",
    "pisa_read_mean_world['Indicator Name'] = 'PISA: Mean performance on the reading scale'\n",
    "pisa_read_mean_world['Indicator Code'] = 'LO.PISA.REA'\n",
    "pisa_read_mean_world.head()"
   ]
  },
  {
   "cell_type": "code",
   "execution_count": null,
   "metadata": {
    "colab": {
     "base_uri": "https://localhost:8080/",
     "height": 204
    },
    "id": "TruTDVmkoGJy",
    "outputId": "d8da37a7-5dba-48ac-d933-dc32e158c79d"
   },
   "outputs": [
    {
     "data": {
      "text/html": [
       "<div>\n",
       "<style scoped>\n",
       "    .dataframe tbody tr th:only-of-type {\n",
       "        vertical-align: middle;\n",
       "    }\n",
       "\n",
       "    .dataframe tbody tr th {\n",
       "        vertical-align: top;\n",
       "    }\n",
       "\n",
       "    .dataframe thead th {\n",
       "        text-align: right;\n",
       "    }\n",
       "</style>\n",
       "<table border=\"1\" class=\"dataframe\">\n",
       "  <thead>\n",
       "    <tr style=\"text-align: right;\">\n",
       "      <th></th>\n",
       "      <th>Year</th>\n",
       "      <th>Value</th>\n",
       "      <th>Country Name</th>\n",
       "      <th>Country Code</th>\n",
       "      <th>Indicator Name</th>\n",
       "      <th>Indicator Code</th>\n",
       "    </tr>\n",
       "  </thead>\n",
       "  <tbody>\n",
       "    <tr>\n",
       "      <th>0</th>\n",
       "      <td>2000-01-01</td>\n",
       "      <td>473.170070</td>\n",
       "      <td>World</td>\n",
       "      <td>WRD</td>\n",
       "      <td>PISA: Mean performance on the science scale</td>\n",
       "      <td>LO.PISA.SCI</td>\n",
       "    </tr>\n",
       "    <tr>\n",
       "      <th>1</th>\n",
       "      <td>2003-01-01</td>\n",
       "      <td>488.519952</td>\n",
       "      <td>World</td>\n",
       "      <td>WRD</td>\n",
       "      <td>PISA: Mean performance on the science scale</td>\n",
       "      <td>LO.PISA.SCI</td>\n",
       "    </tr>\n",
       "    <tr>\n",
       "      <th>2</th>\n",
       "      <td>2006-01-01</td>\n",
       "      <td>472.159265</td>\n",
       "      <td>World</td>\n",
       "      <td>WRD</td>\n",
       "      <td>PISA: Mean performance on the science scale</td>\n",
       "      <td>LO.PISA.SCI</td>\n",
       "    </tr>\n",
       "    <tr>\n",
       "      <th>3</th>\n",
       "      <td>2009-01-01</td>\n",
       "      <td>466.125810</td>\n",
       "      <td>World</td>\n",
       "      <td>WRD</td>\n",
       "      <td>PISA: Mean performance on the science scale</td>\n",
       "      <td>LO.PISA.SCI</td>\n",
       "    </tr>\n",
       "    <tr>\n",
       "      <th>4</th>\n",
       "      <td>2012-01-01</td>\n",
       "      <td>477.916935</td>\n",
       "      <td>World</td>\n",
       "      <td>WRD</td>\n",
       "      <td>PISA: Mean performance on the science scale</td>\n",
       "      <td>LO.PISA.SCI</td>\n",
       "    </tr>\n",
       "  </tbody>\n",
       "</table>\n",
       "</div>"
      ],
      "text/plain": [
       "        Year  ...  Indicator Code\n",
       "0 2000-01-01  ...     LO.PISA.SCI\n",
       "1 2003-01-01  ...     LO.PISA.SCI\n",
       "2 2006-01-01  ...     LO.PISA.SCI\n",
       "3 2009-01-01  ...     LO.PISA.SCI\n",
       "4 2012-01-01  ...     LO.PISA.SCI\n",
       "\n",
       "[5 rows x 6 columns]"
      ]
     },
     "execution_count": 33,
     "metadata": {
      "tags": []
     },
     "output_type": "execute_result"
    }
   ],
   "source": [
    "pisa_sci_mean_world = pisa_sci.groupby('Year', as_index=False).mean()\n",
    "pisa_sci_mean_world['Country Name'] = 'World'\n",
    "pisa_sci_mean_world['Country Code'] = 'WRD'\n",
    "pisa_sci_mean_world['Indicator Name'] = 'PISA: Mean performance on the science scale'\n",
    "pisa_sci_mean_world['Indicator Code'] = 'LO.PISA.SCI'\n",
    "pisa_sci_mean_world.head()"
   ]
  },
  {
   "cell_type": "code",
   "execution_count": null,
   "metadata": {
    "colab": {
     "base_uri": "https://localhost:8080/",
     "height": 1000
    },
    "id": "hxBrClbhln5z",
    "outputId": "9545b184-ef10-4631-b361-4558d22f3736"
   },
   "outputs": [
    {
     "data": {
      "text/html": [
       "<div>\n",
       "<style scoped>\n",
       "    .dataframe tbody tr th:only-of-type {\n",
       "        vertical-align: middle;\n",
       "    }\n",
       "\n",
       "    .dataframe tbody tr th {\n",
       "        vertical-align: top;\n",
       "    }\n",
       "\n",
       "    .dataframe thead th {\n",
       "        text-align: right;\n",
       "    }\n",
       "</style>\n",
       "<table border=\"1\" class=\"dataframe\">\n",
       "  <thead>\n",
       "    <tr style=\"text-align: right;\">\n",
       "      <th></th>\n",
       "      <th>Country Name</th>\n",
       "      <th>Country Code</th>\n",
       "      <th>Indicator Name</th>\n",
       "      <th>Indicator Code</th>\n",
       "      <th>Year</th>\n",
       "      <th>Value</th>\n",
       "    </tr>\n",
       "  </thead>\n",
       "  <tbody>\n",
       "    <tr>\n",
       "      <th>27405503</th>\n",
       "      <td>Thailand</td>\n",
       "      <td>THA</td>\n",
       "      <td>PISA: Mean performance on the mathematics scale</td>\n",
       "      <td>LO.PISA.MAT</td>\n",
       "      <td>2000-01-01</td>\n",
       "      <td>432.000000</td>\n",
       "    </tr>\n",
       "    <tr>\n",
       "      <th>30066293</th>\n",
       "      <td>Thailand</td>\n",
       "      <td>THA</td>\n",
       "      <td>PISA: Mean performance on the mathematics scale</td>\n",
       "      <td>LO.PISA.MAT</td>\n",
       "      <td>2003-01-01</td>\n",
       "      <td>416.977960</td>\n",
       "    </tr>\n",
       "    <tr>\n",
       "      <th>32727083</th>\n",
       "      <td>Thailand</td>\n",
       "      <td>THA</td>\n",
       "      <td>PISA: Mean performance on the mathematics scale</td>\n",
       "      <td>LO.PISA.MAT</td>\n",
       "      <td>2006-01-01</td>\n",
       "      <td>417.072614</td>\n",
       "    </tr>\n",
       "    <tr>\n",
       "      <th>35387873</th>\n",
       "      <td>Thailand</td>\n",
       "      <td>THA</td>\n",
       "      <td>PISA: Mean performance on the mathematics scale</td>\n",
       "      <td>LO.PISA.MAT</td>\n",
       "      <td>2009-01-01</td>\n",
       "      <td>418.583935</td>\n",
       "    </tr>\n",
       "    <tr>\n",
       "      <th>38048663</th>\n",
       "      <td>Thailand</td>\n",
       "      <td>THA</td>\n",
       "      <td>PISA: Mean performance on the mathematics scale</td>\n",
       "      <td>LO.PISA.MAT</td>\n",
       "      <td>2012-01-01</td>\n",
       "      <td>426.737491</td>\n",
       "    </tr>\n",
       "    <tr>\n",
       "      <th>40709453</th>\n",
       "      <td>Thailand</td>\n",
       "      <td>THA</td>\n",
       "      <td>PISA: Mean performance on the mathematics scale</td>\n",
       "      <td>LO.PISA.MAT</td>\n",
       "      <td>2015-01-01</td>\n",
       "      <td>415.463800</td>\n",
       "    </tr>\n",
       "    <tr>\n",
       "      <th>0</th>\n",
       "      <td>World</td>\n",
       "      <td>WRD</td>\n",
       "      <td>PISA: Mean performance on the mathematics scale</td>\n",
       "      <td>LO.PISA.MAT</td>\n",
       "      <td>2000-01-01</td>\n",
       "      <td>470.226190</td>\n",
       "    </tr>\n",
       "    <tr>\n",
       "      <th>1</th>\n",
       "      <td>World</td>\n",
       "      <td>WRD</td>\n",
       "      <td>PISA: Mean performance on the mathematics scale</td>\n",
       "      <td>LO.PISA.MAT</td>\n",
       "      <td>2003-01-01</td>\n",
       "      <td>485.760587</td>\n",
       "    </tr>\n",
       "    <tr>\n",
       "      <th>2</th>\n",
       "      <td>World</td>\n",
       "      <td>WRD</td>\n",
       "      <td>PISA: Mean performance on the mathematics scale</td>\n",
       "      <td>LO.PISA.MAT</td>\n",
       "      <td>2006-01-01</td>\n",
       "      <td>467.643993</td>\n",
       "    </tr>\n",
       "    <tr>\n",
       "      <th>3</th>\n",
       "      <td>World</td>\n",
       "      <td>WRD</td>\n",
       "      <td>PISA: Mean performance on the mathematics scale</td>\n",
       "      <td>LO.PISA.MAT</td>\n",
       "      <td>2009-01-01</td>\n",
       "      <td>461.926995</td>\n",
       "    </tr>\n",
       "    <tr>\n",
       "      <th>4</th>\n",
       "      <td>World</td>\n",
       "      <td>WRD</td>\n",
       "      <td>PISA: Mean performance on the mathematics scale</td>\n",
       "      <td>LO.PISA.MAT</td>\n",
       "      <td>2012-01-01</td>\n",
       "      <td>473.109462</td>\n",
       "    </tr>\n",
       "    <tr>\n",
       "      <th>5</th>\n",
       "      <td>World</td>\n",
       "      <td>WRD</td>\n",
       "      <td>PISA: Mean performance on the mathematics scale</td>\n",
       "      <td>LO.PISA.MAT</td>\n",
       "      <td>2015-01-01</td>\n",
       "      <td>459.571028</td>\n",
       "    </tr>\n",
       "    <tr>\n",
       "      <th>27405506</th>\n",
       "      <td>Thailand</td>\n",
       "      <td>THA</td>\n",
       "      <td>PISA: Mean performance on the reading scale</td>\n",
       "      <td>LO.PISA.REA</td>\n",
       "      <td>2000-01-01</td>\n",
       "      <td>430.683873</td>\n",
       "    </tr>\n",
       "    <tr>\n",
       "      <th>30066296</th>\n",
       "      <td>Thailand</td>\n",
       "      <td>THA</td>\n",
       "      <td>PISA: Mean performance on the reading scale</td>\n",
       "      <td>LO.PISA.REA</td>\n",
       "      <td>2003-01-01</td>\n",
       "      <td>419.914829</td>\n",
       "    </tr>\n",
       "    <tr>\n",
       "      <th>32727086</th>\n",
       "      <td>Thailand</td>\n",
       "      <td>THA</td>\n",
       "      <td>PISA: Mean performance on the reading scale</td>\n",
       "      <td>LO.PISA.REA</td>\n",
       "      <td>2006-01-01</td>\n",
       "      <td>416.751765</td>\n",
       "    </tr>\n",
       "    <tr>\n",
       "      <th>35387876</th>\n",
       "      <td>Thailand</td>\n",
       "      <td>THA</td>\n",
       "      <td>PISA: Mean performance on the reading scale</td>\n",
       "      <td>LO.PISA.REA</td>\n",
       "      <td>2009-01-01</td>\n",
       "      <td>421.374414</td>\n",
       "    </tr>\n",
       "    <tr>\n",
       "      <th>38048666</th>\n",
       "      <td>Thailand</td>\n",
       "      <td>THA</td>\n",
       "      <td>PISA: Mean performance on the reading scale</td>\n",
       "      <td>LO.PISA.REA</td>\n",
       "      <td>2012-01-01</td>\n",
       "      <td>441.219934</td>\n",
       "    </tr>\n",
       "    <tr>\n",
       "      <th>40709456</th>\n",
       "      <td>Thailand</td>\n",
       "      <td>THA</td>\n",
       "      <td>PISA: Mean performance on the reading scale</td>\n",
       "      <td>LO.PISA.REA</td>\n",
       "      <td>2015-01-01</td>\n",
       "      <td>409.130100</td>\n",
       "    </tr>\n",
       "    <tr>\n",
       "      <th>0</th>\n",
       "      <td>World</td>\n",
       "      <td>WRD</td>\n",
       "      <td>PISA: Mean performance on the reading scale</td>\n",
       "      <td>LO.PISA.REA</td>\n",
       "      <td>2000-01-01</td>\n",
       "      <td>471.349832</td>\n",
       "    </tr>\n",
       "    <tr>\n",
       "      <th>1</th>\n",
       "      <td>World</td>\n",
       "      <td>WRD</td>\n",
       "      <td>PISA: Mean performance on the reading scale</td>\n",
       "      <td>LO.PISA.REA</td>\n",
       "      <td>2003-01-01</td>\n",
       "      <td>480.876088</td>\n",
       "    </tr>\n",
       "    <tr>\n",
       "      <th>2</th>\n",
       "      <td>World</td>\n",
       "      <td>WRD</td>\n",
       "      <td>PISA: Mean performance on the reading scale</td>\n",
       "      <td>LO.PISA.REA</td>\n",
       "      <td>2006-01-01</td>\n",
       "      <td>458.893651</td>\n",
       "    </tr>\n",
       "    <tr>\n",
       "      <th>3</th>\n",
       "      <td>World</td>\n",
       "      <td>WRD</td>\n",
       "      <td>PISA: Mean performance on the reading scale</td>\n",
       "      <td>LO.PISA.REA</td>\n",
       "      <td>2009-01-01</td>\n",
       "      <td>458.963963</td>\n",
       "    </tr>\n",
       "    <tr>\n",
       "      <th>4</th>\n",
       "      <td>World</td>\n",
       "      <td>WRD</td>\n",
       "      <td>PISA: Mean performance on the reading scale</td>\n",
       "      <td>LO.PISA.REA</td>\n",
       "      <td>2012-01-01</td>\n",
       "      <td>473.204464</td>\n",
       "    </tr>\n",
       "    <tr>\n",
       "      <th>5</th>\n",
       "      <td>World</td>\n",
       "      <td>WRD</td>\n",
       "      <td>PISA: Mean performance on the reading scale</td>\n",
       "      <td>LO.PISA.REA</td>\n",
       "      <td>2015-01-01</td>\n",
       "      <td>459.393469</td>\n",
       "    </tr>\n",
       "    <tr>\n",
       "      <th>27405509</th>\n",
       "      <td>Thailand</td>\n",
       "      <td>THA</td>\n",
       "      <td>PISA: Mean performance on the science scale</td>\n",
       "      <td>LO.PISA.SCI</td>\n",
       "      <td>2000-01-01</td>\n",
       "      <td>436.378537</td>\n",
       "    </tr>\n",
       "    <tr>\n",
       "      <th>30066299</th>\n",
       "      <td>Thailand</td>\n",
       "      <td>THA</td>\n",
       "      <td>PISA: Mean performance on the science scale</td>\n",
       "      <td>LO.PISA.SCI</td>\n",
       "      <td>2003-01-01</td>\n",
       "      <td>429.060378</td>\n",
       "    </tr>\n",
       "    <tr>\n",
       "      <th>32727089</th>\n",
       "      <td>Thailand</td>\n",
       "      <td>THA</td>\n",
       "      <td>PISA: Mean performance on the science scale</td>\n",
       "      <td>LO.PISA.SCI</td>\n",
       "      <td>2006-01-01</td>\n",
       "      <td>421.011469</td>\n",
       "    </tr>\n",
       "    <tr>\n",
       "      <th>35387879</th>\n",
       "      <td>Thailand</td>\n",
       "      <td>THA</td>\n",
       "      <td>PISA: Mean performance on the science scale</td>\n",
       "      <td>LO.PISA.SCI</td>\n",
       "      <td>2009-01-01</td>\n",
       "      <td>425.296285</td>\n",
       "    </tr>\n",
       "    <tr>\n",
       "      <th>38048669</th>\n",
       "      <td>Thailand</td>\n",
       "      <td>THA</td>\n",
       "      <td>PISA: Mean performance on the science scale</td>\n",
       "      <td>LO.PISA.SCI</td>\n",
       "      <td>2012-01-01</td>\n",
       "      <td>443.999935</td>\n",
       "    </tr>\n",
       "    <tr>\n",
       "      <th>40709459</th>\n",
       "      <td>Thailand</td>\n",
       "      <td>THA</td>\n",
       "      <td>PISA: Mean performance on the science scale</td>\n",
       "      <td>LO.PISA.SCI</td>\n",
       "      <td>2015-01-01</td>\n",
       "      <td>421.337300</td>\n",
       "    </tr>\n",
       "    <tr>\n",
       "      <th>0</th>\n",
       "      <td>World</td>\n",
       "      <td>WRD</td>\n",
       "      <td>PISA: Mean performance on the science scale</td>\n",
       "      <td>LO.PISA.SCI</td>\n",
       "      <td>2000-01-01</td>\n",
       "      <td>473.170070</td>\n",
       "    </tr>\n",
       "    <tr>\n",
       "      <th>1</th>\n",
       "      <td>World</td>\n",
       "      <td>WRD</td>\n",
       "      <td>PISA: Mean performance on the science scale</td>\n",
       "      <td>LO.PISA.SCI</td>\n",
       "      <td>2003-01-01</td>\n",
       "      <td>488.519952</td>\n",
       "    </tr>\n",
       "    <tr>\n",
       "      <th>2</th>\n",
       "      <td>World</td>\n",
       "      <td>WRD</td>\n",
       "      <td>PISA: Mean performance on the science scale</td>\n",
       "      <td>LO.PISA.SCI</td>\n",
       "      <td>2006-01-01</td>\n",
       "      <td>472.159265</td>\n",
       "    </tr>\n",
       "    <tr>\n",
       "      <th>3</th>\n",
       "      <td>World</td>\n",
       "      <td>WRD</td>\n",
       "      <td>PISA: Mean performance on the science scale</td>\n",
       "      <td>LO.PISA.SCI</td>\n",
       "      <td>2009-01-01</td>\n",
       "      <td>466.125810</td>\n",
       "    </tr>\n",
       "    <tr>\n",
       "      <th>4</th>\n",
       "      <td>World</td>\n",
       "      <td>WRD</td>\n",
       "      <td>PISA: Mean performance on the science scale</td>\n",
       "      <td>LO.PISA.SCI</td>\n",
       "      <td>2012-01-01</td>\n",
       "      <td>477.916935</td>\n",
       "    </tr>\n",
       "    <tr>\n",
       "      <th>5</th>\n",
       "      <td>World</td>\n",
       "      <td>WRD</td>\n",
       "      <td>PISA: Mean performance on the science scale</td>\n",
       "      <td>LO.PISA.SCI</td>\n",
       "      <td>2015-01-01</td>\n",
       "      <td>464.213785</td>\n",
       "    </tr>\n",
       "  </tbody>\n",
       "</table>\n",
       "</div>"
      ],
      "text/plain": [
       "         Country Name Country Code  ...       Year       Value\n",
       "27405503     Thailand          THA  ... 2000-01-01  432.000000\n",
       "30066293     Thailand          THA  ... 2003-01-01  416.977960\n",
       "32727083     Thailand          THA  ... 2006-01-01  417.072614\n",
       "35387873     Thailand          THA  ... 2009-01-01  418.583935\n",
       "38048663     Thailand          THA  ... 2012-01-01  426.737491\n",
       "40709453     Thailand          THA  ... 2015-01-01  415.463800\n",
       "0               World          WRD  ... 2000-01-01  470.226190\n",
       "1               World          WRD  ... 2003-01-01  485.760587\n",
       "2               World          WRD  ... 2006-01-01  467.643993\n",
       "3               World          WRD  ... 2009-01-01  461.926995\n",
       "4               World          WRD  ... 2012-01-01  473.109462\n",
       "5               World          WRD  ... 2015-01-01  459.571028\n",
       "27405506     Thailand          THA  ... 2000-01-01  430.683873\n",
       "30066296     Thailand          THA  ... 2003-01-01  419.914829\n",
       "32727086     Thailand          THA  ... 2006-01-01  416.751765\n",
       "35387876     Thailand          THA  ... 2009-01-01  421.374414\n",
       "38048666     Thailand          THA  ... 2012-01-01  441.219934\n",
       "40709456     Thailand          THA  ... 2015-01-01  409.130100\n",
       "0               World          WRD  ... 2000-01-01  471.349832\n",
       "1               World          WRD  ... 2003-01-01  480.876088\n",
       "2               World          WRD  ... 2006-01-01  458.893651\n",
       "3               World          WRD  ... 2009-01-01  458.963963\n",
       "4               World          WRD  ... 2012-01-01  473.204464\n",
       "5               World          WRD  ... 2015-01-01  459.393469\n",
       "27405509     Thailand          THA  ... 2000-01-01  436.378537\n",
       "30066299     Thailand          THA  ... 2003-01-01  429.060378\n",
       "32727089     Thailand          THA  ... 2006-01-01  421.011469\n",
       "35387879     Thailand          THA  ... 2009-01-01  425.296285\n",
       "38048669     Thailand          THA  ... 2012-01-01  443.999935\n",
       "40709459     Thailand          THA  ... 2015-01-01  421.337300\n",
       "0               World          WRD  ... 2000-01-01  473.170070\n",
       "1               World          WRD  ... 2003-01-01  488.519952\n",
       "2               World          WRD  ... 2006-01-01  472.159265\n",
       "3               World          WRD  ... 2009-01-01  466.125810\n",
       "4               World          WRD  ... 2012-01-01  477.916935\n",
       "5               World          WRD  ... 2015-01-01  464.213785\n",
       "\n",
       "[36 rows x 6 columns]"
      ]
     },
     "execution_count": 34,
     "metadata": {
      "tags": []
     },
     "output_type": "execute_result"
    }
   ],
   "source": [
    "pisa_th_world = pd.concat([pisa_math_th, pisa_math_mean_world, pisa_read_th, pisa_read_mean_world, pisa_sci_th, pisa_sci_mean_world])\n",
    "pisa_th_world"
   ]
  },
  {
   "cell_type": "code",
   "execution_count": null,
   "metadata": {
    "colab": {
     "base_uri": "https://localhost:8080/",
     "height": 910
    },
    "id": "mWh0s4N9jev0",
    "outputId": "01efcc73-07ad-4a67-88a3-19dda87142ca"
   },
   "outputs": [
    {
     "data": {
      "text/plain": [
       "Text(0, 0.5, 'PISA Score')"
      ]
     },
     "execution_count": 35,
     "metadata": {
      "tags": []
     },
     "output_type": "execute_result"
    },
    {
     "data": {
      "image/png": "[encoded data removed]",
      "text/plain": [
       "<Figure size 1440x1080 with 1 Axes>"
      ]
     },
     "metadata": {
      "tags": []
     },
     "output_type": "display_data"
    }
   ],
   "source": [
    "plt.figure(figsize=(20,15))\n",
    "\n",
    "ax = sns.lineplot(data=pisa_th_world, x=\"Year\", y=\"Value\", hue='Country Name', style='Indicator Name', markers=True)\n",
    "\n",
    "ax.set_title(\"PISA Score of Thailand vs World from 2000 to 2015\")\n",
    "ax.set_xlabel('Year')\n",
    "ax.set_ylabel('PISA Score')"
   ]
  },
  {
   "cell_type": "markdown",
   "metadata": {
    "id": "H26WNUKlMdRO"
   },
   "source": [
    "The Programme for International Student Assessment (PISA) is a worldwide study by the Organisation for Economic Co-operation and Development (OECD) in member and non-member nations intended to evaluate educational systems by measuring 15-year-old school pupils' scholastic performance on mathematics, science, and reading. PISA is held every three years. This graph stated all three types of PISA test's scores, mathematics, reading, and science. This chart comapres the score between Thailand and the average score on the world. The PISA score scaled to fit normal distribution, so maximum and minimum score does not really matter much. In this comparison, Thailand performs poorly compare to the world average. Despite the fact that Thailand performs quite well on the GDP that comparable to the average."
   ]
  },
  {
   "cell_type": "markdown",
   "metadata": {
    "id": "YQ1eLvf4NGJd"
   },
   "source": [
    "## Average Years of Primary Schooling of Thailand vs World"
   ]
  },
  {
   "cell_type": "code",
   "execution_count": null,
   "metadata": {
    "id": "og7tkJmW3sdM"
   },
   "outputs": [],
   "source": [
    "primary_schooling = education[education['Indicator Name'] == 'Barro-Lee: Average years of primary schooling, age 15+, total']"
   ]
  },
  {
   "cell_type": "code",
   "execution_count": null,
   "metadata": {
    "colab": {
     "base_uri": "https://localhost:8080/",
     "height": 204
    },
    "id": "wCbRYntU9SP2",
    "outputId": "7370afc8-70a2-4a88-9e63-302295a047a8"
   },
   "outputs": [
    {
     "data": {
      "text/html": [
       "<div>\n",
       "<style scoped>\n",
       "    .dataframe tbody tr th:only-of-type {\n",
       "        vertical-align: middle;\n",
       "    }\n",
       "\n",
       "    .dataframe tbody tr th {\n",
       "        vertical-align: top;\n",
       "    }\n",
       "\n",
       "    .dataframe thead th {\n",
       "        text-align: right;\n",
       "    }\n",
       "</style>\n",
       "<table border=\"1\" class=\"dataframe\">\n",
       "  <thead>\n",
       "    <tr style=\"text-align: right;\">\n",
       "      <th></th>\n",
       "      <th>Year</th>\n",
       "      <th>Value</th>\n",
       "      <th>Country Name</th>\n",
       "      <th>Country Code</th>\n",
       "      <th>Indicator Name</th>\n",
       "      <th>Indicator Code</th>\n",
       "    </tr>\n",
       "  </thead>\n",
       "  <tbody>\n",
       "    <tr>\n",
       "      <th>0</th>\n",
       "      <td>1970-01-01</td>\n",
       "      <td>3.101944</td>\n",
       "      <td>World</td>\n",
       "      <td>WTD</td>\n",
       "      <td>Barro-Lee: Average years of primary schooling,...</td>\n",
       "      <td>BAR.PRM.SCHL.15UP</td>\n",
       "    </tr>\n",
       "    <tr>\n",
       "      <th>1</th>\n",
       "      <td>1975-01-01</td>\n",
       "      <td>3.357847</td>\n",
       "      <td>World</td>\n",
       "      <td>WTD</td>\n",
       "      <td>Barro-Lee: Average years of primary schooling,...</td>\n",
       "      <td>BAR.PRM.SCHL.15UP</td>\n",
       "    </tr>\n",
       "    <tr>\n",
       "      <th>2</th>\n",
       "      <td>1980-01-01</td>\n",
       "      <td>3.633611</td>\n",
       "      <td>World</td>\n",
       "      <td>WTD</td>\n",
       "      <td>Barro-Lee: Average years of primary schooling,...</td>\n",
       "      <td>BAR.PRM.SCHL.15UP</td>\n",
       "    </tr>\n",
       "    <tr>\n",
       "      <th>3</th>\n",
       "      <td>1985-01-01</td>\n",
       "      <td>3.890208</td>\n",
       "      <td>World</td>\n",
       "      <td>WTD</td>\n",
       "      <td>Barro-Lee: Average years of primary schooling,...</td>\n",
       "      <td>BAR.PRM.SCHL.15UP</td>\n",
       "    </tr>\n",
       "    <tr>\n",
       "      <th>4</th>\n",
       "      <td>1990-01-01</td>\n",
       "      <td>4.102153</td>\n",
       "      <td>World</td>\n",
       "      <td>WTD</td>\n",
       "      <td>Barro-Lee: Average years of primary schooling,...</td>\n",
       "      <td>BAR.PRM.SCHL.15UP</td>\n",
       "    </tr>\n",
       "  </tbody>\n",
       "</table>\n",
       "</div>"
      ],
      "text/plain": [
       "        Year  ...     Indicator Code\n",
       "0 1970-01-01  ...  BAR.PRM.SCHL.15UP\n",
       "1 1975-01-01  ...  BAR.PRM.SCHL.15UP\n",
       "2 1980-01-01  ...  BAR.PRM.SCHL.15UP\n",
       "3 1985-01-01  ...  BAR.PRM.SCHL.15UP\n",
       "4 1990-01-01  ...  BAR.PRM.SCHL.15UP\n",
       "\n",
       "[5 rows x 6 columns]"
      ]
     },
     "execution_count": 37,
     "metadata": {
      "tags": []
     },
     "output_type": "execute_result"
    }
   ],
   "source": [
    "primary_schooling_world = primary_schooling.groupby('Year', as_index=False).mean()\n",
    "primary_schooling_world['Country Name'] = 'World'\n",
    "primary_schooling_world['Country Code'] = 'WTD'\n",
    "primary_schooling_world['Indicator Name'] = 'Barro-Lee: Average years of primary schooling, age 15+, total'\n",
    "primary_schooling_world['Indicator Code'] = 'BAR.PRM.SCHL.15UP'\n",
    "primary_schooling_world.head()"
   ]
  },
  {
   "cell_type": "code",
   "execution_count": null,
   "metadata": {
    "colab": {
     "base_uri": "https://localhost:8080/",
     "height": 204
    },
    "id": "vOmz1fAE9SB9",
    "outputId": "d4008d1d-873a-407b-a24d-b02c83fcfac0"
   },
   "outputs": [
    {
     "data": {
      "text/html": [
       "<div>\n",
       "<style scoped>\n",
       "    .dataframe tbody tr th:only-of-type {\n",
       "        vertical-align: middle;\n",
       "    }\n",
       "\n",
       "    .dataframe tbody tr th {\n",
       "        vertical-align: top;\n",
       "    }\n",
       "\n",
       "    .dataframe thead th {\n",
       "        text-align: right;\n",
       "    }\n",
       "</style>\n",
       "<table border=\"1\" class=\"dataframe\">\n",
       "  <thead>\n",
       "    <tr style=\"text-align: right;\">\n",
       "      <th></th>\n",
       "      <th>Country Name</th>\n",
       "      <th>Country Code</th>\n",
       "      <th>Indicator Name</th>\n",
       "      <th>Indicator Code</th>\n",
       "      <th>Year</th>\n",
       "      <th>Value</th>\n",
       "    </tr>\n",
       "  </thead>\n",
       "  <tbody>\n",
       "    <tr>\n",
       "      <th>795455</th>\n",
       "      <td>Thailand</td>\n",
       "      <td>THA</td>\n",
       "      <td>Barro-Lee: Average years of primary schooling,...</td>\n",
       "      <td>BAR.PRM.SCHL.15UP</td>\n",
       "      <td>1970-01-01</td>\n",
       "      <td>2.15</td>\n",
       "    </tr>\n",
       "    <tr>\n",
       "      <th>5230105</th>\n",
       "      <td>Thailand</td>\n",
       "      <td>THA</td>\n",
       "      <td>Barro-Lee: Average years of primary schooling,...</td>\n",
       "      <td>BAR.PRM.SCHL.15UP</td>\n",
       "      <td>1975-01-01</td>\n",
       "      <td>2.46</td>\n",
       "    </tr>\n",
       "    <tr>\n",
       "      <th>9664755</th>\n",
       "      <td>Thailand</td>\n",
       "      <td>THA</td>\n",
       "      <td>Barro-Lee: Average years of primary schooling,...</td>\n",
       "      <td>BAR.PRM.SCHL.15UP</td>\n",
       "      <td>1980-01-01</td>\n",
       "      <td>2.87</td>\n",
       "    </tr>\n",
       "    <tr>\n",
       "      <th>14099405</th>\n",
       "      <td>Thailand</td>\n",
       "      <td>THA</td>\n",
       "      <td>Barro-Lee: Average years of primary schooling,...</td>\n",
       "      <td>BAR.PRM.SCHL.15UP</td>\n",
       "      <td>1985-01-01</td>\n",
       "      <td>3.24</td>\n",
       "    </tr>\n",
       "    <tr>\n",
       "      <th>18534055</th>\n",
       "      <td>Thailand</td>\n",
       "      <td>THA</td>\n",
       "      <td>Barro-Lee: Average years of primary schooling,...</td>\n",
       "      <td>BAR.PRM.SCHL.15UP</td>\n",
       "      <td>1990-01-01</td>\n",
       "      <td>3.75</td>\n",
       "    </tr>\n",
       "  </tbody>\n",
       "</table>\n",
       "</div>"
      ],
      "text/plain": [
       "         Country Name Country Code  ...       Year Value\n",
       "795455       Thailand          THA  ... 1970-01-01  2.15\n",
       "5230105      Thailand          THA  ... 1975-01-01  2.46\n",
       "9664755      Thailand          THA  ... 1980-01-01  2.87\n",
       "14099405     Thailand          THA  ... 1985-01-01  3.24\n",
       "18534055     Thailand          THA  ... 1990-01-01  3.75\n",
       "\n",
       "[5 rows x 6 columns]"
      ]
     },
     "execution_count": 38,
     "metadata": {
      "tags": []
     },
     "output_type": "execute_result"
    }
   ],
   "source": [
    "primary_schooling_th = primary_schooling[primary_schooling['Country Name'] == 'Thailand']\n",
    "primary_schooling_th.head()"
   ]
  },
  {
   "cell_type": "code",
   "execution_count": null,
   "metadata": {
    "id": "fYdFwdw89usQ"
   },
   "outputs": [],
   "source": [
    "primary_schooling_th_world = pd.concat([primary_schooling_th, primary_schooling_world])"
   ]
  },
  {
   "cell_type": "code",
   "execution_count": null,
   "metadata": {
    "colab": {
     "base_uri": "https://localhost:8080/",
     "height": 910
    },
    "id": "hkSKP3i3jwhe",
    "outputId": "0d1f72f2-7b26-4a70-862b-c114561195a2"
   },
   "outputs": [
    {
     "data": {
      "text/plain": [
       "Text(0, 0.5, 'Average Years of Schooling (15+ years population)')"
      ]
     },
     "execution_count": 40,
     "metadata": {
      "tags": []
     },
     "output_type": "execute_result"
    },
    {
     "data": {
      "image/png": "[encoded data removed]",
      "text/plain": [
       "<Figure size 1440x1080 with 1 Axes>"
      ]
     },
     "metadata": {
      "tags": []
     },
     "output_type": "display_data"
    }
   ],
   "source": [
    "plt.figure(figsize=(20,15))\n",
    "\n",
    "ax = sns.lineplot(data=primary_schooling_th_world, x=\"Year\", y=\"Value\", hue='Country Name')\n",
    "\n",
    "ax.set_title(\"Thailand Average Years of Schooling (15+ years population)\")\n",
    "ax.set_xlabel('Year')\n",
    "ax.set_ylabel('Average Years of Schooling (15+ years population)')"
   ]
  },
  {
   "cell_type": "markdown",
   "metadata": {
    "id": "UzDWMnSTNH7e"
   },
   "source": [
    "This chart shows the average years of schooling of population with age over 15 in Thailand compare to the world average. It can be clearly seen that Thailand's primary schooling years is longer than the average of the world. So, we can roughly say that with longer priamry education time, population maybe better at basic skills such as mathematics and reading. But the trend of Thailand years is not that steep compare to the world average. So, the world puts more effort to accelerate the rate of change in primary schooling years."
   ]
  },
  {
   "cell_type": "code",
   "execution_count": null,
   "metadata": {
    "id": "4yGGhaGMDMoZ"
   },
   "outputs": [],
   "source": [
    "primary_schooling_2010 = primary_schooling[primary_schooling['Year'] == '2010-01-01']"
   ]
  },
  {
   "cell_type": "code",
   "execution_count": null,
   "metadata": {
    "colab": {
     "base_uri": "https://localhost:8080/",
     "height": 910
    },
    "id": "uCQ3jtTADZAp",
    "outputId": "6189b8a9-472e-40e1-ecc0-126c4e55c5d1"
   },
   "outputs": [
    {
     "data": {
      "text/plain": [
       "Text(0, 0.5, 'Count')"
      ]
     },
     "execution_count": 42,
     "metadata": {
      "tags": []
     },
     "output_type": "execute_result"
    },
    {
     "data": {
      "image/png": "[encoded data removed]",
      "text/plain": [
       "<Figure size 1440x1080 with 1 Axes>"
      ]
     },
     "metadata": {
      "tags": []
     },
     "output_type": "display_data"
    }
   ],
   "source": [
    "plt.figure(figsize=(20,15))\n",
    "\n",
    "ax = sns.histplot(primary_schooling_2010, x=\"Value\")\n",
    "\n",
    "ax.set_title(\"Average Years of Schooling (15+ years population) on 2010\")\n",
    "ax.set_xlabel('Primary Schooling Years')\n",
    "ax.set_ylabel('Count')"
   ]
  },
  {
   "cell_type": "markdown",
   "metadata": {
    "id": "-hNPYRcZEWht"
   },
   "source": [
    "This histogram shows that most of the countries population has around 5 to 6 years (Thailand has around this number). This may not be surprising, since primary education usually take around 6 years for most of the countries. However, compare the left side and right side of the mean. It can be seen that most of the countries have less than 5 years of primary schooling."
   ]
  },
  {
   "cell_type": "markdown",
   "metadata": {
    "id": "kuM3Zyj24ys-"
   },
   "source": [
    "## TIMSS of Thailand vs World"
   ]
  },
  {
   "cell_type": "code",
   "execution_count": null,
   "metadata": {
    "id": "Opa83WxJ40oq"
   },
   "outputs": [],
   "source": [
    "timss_math_four = education[education['Indicator Name'] == 'TIMSS: Mean performance on the mathematics scale for fourth grade students, total']\n",
    "timss_math_eight = education[education['Indicator Name'] == 'TIMSS: Mean performance on the mathematics scale for eighth grade students, total']\n",
    "timss_sci_four = education[education['Indicator Name'] == 'TIMSS: Mean performance on the science scale for fourth grade students, total']\n",
    "timss_sci_eight = education[education['Indicator Name'] == 'TIMSS: Mean performance on the science scale for eighth grade students, total']"
   ]
  },
  {
   "cell_type": "code",
   "execution_count": null,
   "metadata": {
    "id": "77_y1FJ47ILp"
   },
   "outputs": [],
   "source": [
    "timss_math_four_th = timss_math_four[timss_math_four['Country Name'] == 'Thailand']\n",
    "timss_math_eight_th = timss_math_eight[timss_math_eight['Country Name'] == 'Thailand']\n",
    "timss_sci_four_th = timss_sci_four[timss_sci_four['Country Name'] == 'Thailand']\n",
    "timss_sci_eight_th = timss_sci_eight[timss_sci_eight['Country Name'] == 'Thailand']"
   ]
  },
  {
   "cell_type": "code",
   "execution_count": null,
   "metadata": {
    "id": "RamtrcAd7f4O"
   },
   "outputs": [],
   "source": [
    "timss_math_four_world = timss_math_four.groupby('Year', as_index=False).mean()\n",
    "timss_math_four_world['Country Name'] = 'World'\n",
    "timss_math_four_world['Country Code'] = 'WRD'\n",
    "timss_math_four_world['Indicator Name'] = 'TIMSS: Mean performance on the mathematics scale for fourth grade students, total'\n",
    "timss_math_four_world['Indicator Code'] = 'LO.TIMSS.MAT4'"
   ]
  },
  {
   "cell_type": "code",
   "execution_count": null,
   "metadata": {
    "id": "yjUBiwR47zYf"
   },
   "outputs": [],
   "source": [
    "timss_math_eight_world = timss_math_eight.groupby('Year', as_index=False).mean()\n",
    "timss_math_eight_world['Country Name'] = 'World'\n",
    "timss_math_eight_world['Country Code'] = 'WRD'\n",
    "timss_math_eight_world['Indicator Name'] = 'TIMSS: Mean performance on the mathematics scale for eighth grade students, total'\n",
    "timss_math_eight_world['Indicator Code'] = 'LO.TIMSS.MAT8'"
   ]
  },
  {
   "cell_type": "code",
   "execution_count": null,
   "metadata": {
    "id": "Iw4XolCo7z4b"
   },
   "outputs": [],
   "source": [
    "timss_sci_four_world = timss_sci_four.groupby('Year', as_index=False).mean()\n",
    "timss_sci_four_world['Country Name'] = 'World'\n",
    "timss_sci_four_world['Country Code'] = 'WRD'\n",
    "timss_sci_four_world['Indicator Name'] = 'TIMSS: Mean performance on the science scale for fourth grade students, total'\n",
    "timss_sci_four_world['Indicator Code'] = 'LO.TIMSS.SCI4'"
   ]
  },
  {
   "cell_type": "code",
   "execution_count": null,
   "metadata": {
    "id": "QoOjwI2j70On"
   },
   "outputs": [],
   "source": [
    "timss_sci_eight_world = timss_sci_eight.groupby('Year', as_index=False).mean()\n",
    "timss_sci_eight_world['Country Name'] = 'World'\n",
    "timss_sci_eight_world['Country Code'] = 'WRD'\n",
    "timss_sci_eight_world['Indicator Name'] = 'TIMSS: Mean performance on the science scale for eighth grade students, total'\n",
    "timss_sci_eight_world['Indicator Code'] = 'LO.TIMSS.SCI8'"
   ]
  },
  {
   "cell_type": "code",
   "execution_count": null,
   "metadata": {
    "colab": {
     "base_uri": "https://localhost:8080/",
     "height": 204
    },
    "id": "uHCLRCDj5N7c",
    "outputId": "39cf7f86-9024-42bb-ecfc-9eedb8e241f3"
   },
   "outputs": [
    {
     "data": {
      "text/html": [
       "<div>\n",
       "<style scoped>\n",
       "    .dataframe tbody tr th:only-of-type {\n",
       "        vertical-align: middle;\n",
       "    }\n",
       "\n",
       "    .dataframe tbody tr th {\n",
       "        vertical-align: top;\n",
       "    }\n",
       "\n",
       "    .dataframe thead th {\n",
       "        text-align: right;\n",
       "    }\n",
       "</style>\n",
       "<table border=\"1\" class=\"dataframe\">\n",
       "  <thead>\n",
       "    <tr style=\"text-align: right;\">\n",
       "      <th></th>\n",
       "      <th>Country Name</th>\n",
       "      <th>Country Code</th>\n",
       "      <th>Indicator Name</th>\n",
       "      <th>Indicator Code</th>\n",
       "      <th>Year</th>\n",
       "      <th>Value</th>\n",
       "    </tr>\n",
       "  </thead>\n",
       "  <tbody>\n",
       "    <tr>\n",
       "      <th>22971636</th>\n",
       "      <td>Thailand</td>\n",
       "      <td>THA</td>\n",
       "      <td>TIMSS: Mean performance on the mathematics sca...</td>\n",
       "      <td>LO.TIMSS.MAT4</td>\n",
       "      <td>1995-01-01</td>\n",
       "      <td>466.523453</td>\n",
       "    </tr>\n",
       "    <tr>\n",
       "      <th>37162516</th>\n",
       "      <td>Thailand</td>\n",
       "      <td>THA</td>\n",
       "      <td>TIMSS: Mean performance on the mathematics sca...</td>\n",
       "      <td>LO.TIMSS.MAT4</td>\n",
       "      <td>2011-01-01</td>\n",
       "      <td>457.975859</td>\n",
       "    </tr>\n",
       "    <tr>\n",
       "      <th>22971633</th>\n",
       "      <td>Thailand</td>\n",
       "      <td>THA</td>\n",
       "      <td>TIMSS: Mean performance on the mathematics sca...</td>\n",
       "      <td>LO.TIMSS.MAT8</td>\n",
       "      <td>1995-01-01</td>\n",
       "      <td>516.215545</td>\n",
       "    </tr>\n",
       "    <tr>\n",
       "      <th>26519353</th>\n",
       "      <td>Thailand</td>\n",
       "      <td>THA</td>\n",
       "      <td>TIMSS: Mean performance on the mathematics sca...</td>\n",
       "      <td>LO.TIMSS.MAT8</td>\n",
       "      <td>1999-01-01</td>\n",
       "      <td>467.000000</td>\n",
       "    </tr>\n",
       "    <tr>\n",
       "      <th>33614793</th>\n",
       "      <td>Thailand</td>\n",
       "      <td>THA</td>\n",
       "      <td>TIMSS: Mean performance on the mathematics sca...</td>\n",
       "      <td>LO.TIMSS.MAT8</td>\n",
       "      <td>2007-01-01</td>\n",
       "      <td>441.000000</td>\n",
       "    </tr>\n",
       "  </tbody>\n",
       "</table>\n",
       "</div>"
      ],
      "text/plain": [
       "         Country Name Country Code  ...       Year       Value\n",
       "22971636     Thailand          THA  ... 1995-01-01  466.523453\n",
       "37162516     Thailand          THA  ... 2011-01-01  457.975859\n",
       "22971633     Thailand          THA  ... 1995-01-01  516.215545\n",
       "26519353     Thailand          THA  ... 1999-01-01  467.000000\n",
       "33614793     Thailand          THA  ... 2007-01-01  441.000000\n",
       "\n",
       "[5 rows x 6 columns]"
      ]
     },
     "execution_count": 49,
     "metadata": {
      "tags": []
     },
     "output_type": "execute_result"
    }
   ],
   "source": [
    "timss = pd.concat([timss_math_four_th, timss_math_eight_th, timss_sci_four_th, timss_sci_eight_th, timss_math_four_world, timss_math_eight_world, timss_sci_four_world, timss_sci_eight_world])\n",
    "timss.head()"
   ]
  },
  {
   "cell_type": "code",
   "execution_count": null,
   "metadata": {
    "id": "qJ4k5x-_EmTM"
   },
   "outputs": [],
   "source": [
    "timss_four_math = pd.concat([timss_math_four_th, timss_math_four_world])\n",
    "timss_eight_math = pd.concat([timss_math_eight_th, timss_math_eight_world])\n",
    "timss_four_sci = pd.concat([timss_sci_four_th, timss_sci_four_world])\n",
    "timss_eight_sci = pd.concat([timss_sci_eight_th, timss_sci_eight_world])"
   ]
  },
  {
   "cell_type": "code",
   "execution_count": null,
   "metadata": {
    "colab": {
     "base_uri": "https://localhost:8080/",
     "height": 1000
    },
    "id": "63SEkTqR5VAb",
    "outputId": "639c7efc-0b64-428e-ca3d-e623d74daf9c"
   },
   "outputs": [
    {
     "data": {
      "text/plain": [
       "(420.0, 530.0)"
      ]
     },
     "execution_count": 51,
     "metadata": {
      "tags": []
     },
     "output_type": "execute_result"
    },
    {
     "data": {
      "text/plain": [
       "<Figure size 1440x1080 with 0 Axes>"
      ]
     },
     "metadata": {
      "tags": []
     },
     "output_type": "display_data"
    },
    {
     "data": {
      "image/png": "[encoded data removed]",
      "text/plain": [
       "<Figure size 1440x1080 with 4 Axes>"
      ]
     },
     "metadata": {
      "tags": []
     },
     "output_type": "display_data"
    }
   ],
   "source": [
    "plt.figure(figsize=(20,15))\n",
    "\n",
    "# ax.set_title(\"TIMSS of Thailand vs World\")\n",
    "# ax.set_xlabel('Year')\n",
    "# ax.set_ylabel('TIMSS')\n",
    "\n",
    "fig, axs = plt.subplots(2, 2, figsize=(20, 15))\n",
    "fig.suptitle('TIMSS Score of Thailand vs World')\n",
    "\n",
    "sns.lineplot(ax=axs[0, 0], data=timss_four_math, x=\"Year\", y=\"Value\", hue='Country Name')\n",
    "axs[0, 0].set_title(\"TIMSS Mathematics Score of Fourth Grade Student\")\n",
    "axs[0, 0].set_xlabel('Year')\n",
    "axs[0, 0].set_ylabel('Mathematics Score (4th Grade)')\n",
    "axs[0, 0].set_ylim(420, 530)\n",
    "\n",
    "sns.lineplot(ax=axs[0, 1], data=timss_eight_math, x=\"Year\", y=\"Value\", hue='Country Name')\n",
    "axs[0, 1].set_title(\"TIMSS Mathematics Score of Eighth Grade Student\")\n",
    "axs[0, 1].set_xlabel('Year')\n",
    "axs[0, 1].set_ylabel('Mathematics Score (8th Grade)')\n",
    "axs[0, 1].set_ylim(420, 530)\n",
    "\n",
    "sns.lineplot(ax=axs[1, 0], data=timss_four_sci, x=\"Year\", y=\"Value\", hue='Country Name')\n",
    "axs[1, 0].set_title(\"TIMSS Science Score of Fourth Grade Student\")\n",
    "axs[1, 0].set_xlabel('Year')\n",
    "axs[1, 0].set_ylabel('Science Score (4th Grade)')\n",
    "axs[1, 0].set_ylim(420, 530)\n",
    "\n",
    "sns.lineplot(ax=axs[1, 1], data=timss_eight_sci, x=\"Year\", y=\"Value\", hue='Country Name')\n",
    "axs[1, 1].set_title(\"TIMSS Science Score of Eighth Grade Student\")\n",
    "axs[1, 1].set_xlabel('Year')\n",
    "axs[1, 1].set_ylabel('Science Score (8th Grade)')\n",
    "axs[1, 1].set_ylim(420, 530)"
   ]
  },
  {
   "cell_type": "markdown",
   "metadata": {
    "id": "-0KpSJ60AOPQ"
   },
   "source": [
    "Trends in International Mathematics and Science Study (TIMSS) is an international assessment focused on mathematics and science. Participants in tests are fourth and eighth grade students (or equivalent). In this visuals, it focuses on Thailand performance compare to the world average. From the graphs, we can see that Thailand performance is acceptable on all subjects in almost every years. While eighth students performing around the average, the score performed by fourth grade student is a little bit lower than the world average. So, this confirms that average performance of students in Thailand on mathematics is on avereage. And, Thai student are better at mathematics because study heavier and deeper is a myth. It is a truth that Thai students can achieved many academic internations awards. But look at the whole picture of every students in Thailand, that does not seem to be the case. Another interesting trend is that Thai mathematics and science scores except the science score by fourth grade students has decreasing trend, while the world seems to be an increasing trend after 2007. This could show a sign of a problem that we are moving backwards in term of academic perforamnce at global scale."
   ]
  },
  {
   "cell_type": "code",
   "execution_count": null,
   "metadata": {
    "id": "TnE2HlRy-wPY"
   },
   "outputs": [],
   "source": [
    "timss_math_four_2015 = timss_math_four[timss_math_four['Year'] == '2015-01-01']\n",
    "timss_math_eight_2015 = timss_math_eight[timss_math_eight['Year'] == '2015-01-01']\n",
    "timss_sci_four_2015 = timss_sci_four[timss_sci_four['Year'] == '2015-01-01']\n",
    "timss_sci_eight_2015 = timss_sci_eight[timss_sci_eight['Year'] == '2015-01-01']"
   ]
  },
  {
   "cell_type": "code",
   "execution_count": null,
   "metadata": {
    "colab": {
     "base_uri": "https://localhost:8080/",
     "height": 1000
    },
    "id": "spl9pbOn6oP2",
    "outputId": "e7542400-616c-4cdd-ff0e-8a10dfcc0ff1"
   },
   "outputs": [
    {
     "data": {
      "text/plain": [
       "(300.0, 630.0)"
      ]
     },
     "execution_count": 53,
     "metadata": {
      "tags": []
     },
     "output_type": "execute_result"
    },
    {
     "data": {
      "image/png": "[encoded data removed]",
      "text/plain": [
       "<Figure size 1440x1080 with 4 Axes>"
      ]
     },
     "metadata": {
      "tags": []
     },
     "output_type": "display_data"
    }
   ],
   "source": [
    "fig, axs = plt.subplots(2, 2, figsize=(20, 15), sharey=True)\n",
    "fig.suptitle('2015 TIMSS Score Distribution')\n",
    "\n",
    "sns.histplot(ax=axs[0, 0], data=timss_math_four_2015, x=\"Value\")\n",
    "axs[0, 0].set_title(\"TIMSS Mathematics Score of Fourth Grade Student\")\n",
    "axs[0, 0].set_xlabel('Mathematics Score (4th Grade)')\n",
    "axs[0, 0].set_ylabel('Count')\n",
    "axs[0, 0].set_xlim(300, 630)\n",
    "\n",
    "sns.histplot(ax=axs[0, 1], data=timss_math_eight_2015, x=\"Value\")\n",
    "axs[0, 1].set_title(\"TIMSS Mathematics Score of Eighth Grade Student\")\n",
    "axs[0, 1].set_xlabel('Mathematics Score (8th Grade)')\n",
    "axs[0, 1].set_ylabel('Count')\n",
    "axs[0, 1].set_xlim(300, 630)\n",
    "\n",
    "sns.histplot(ax=axs[1, 0], data=timss_sci_four_2015, x=\"Value\")\n",
    "axs[1, 0].set_title(\"TIMSS Science Score of Fourth Grade Student\")\n",
    "axs[1, 0].set_xlabel('Science Score (4th Grade)')\n",
    "axs[1, 0].set_ylabel('Count')\n",
    "axs[1, 0].set_xlim(300, 630)\n",
    "\n",
    "sns.histplot(ax=axs[1, 1], data=timss_sci_eight_2015, x=\"Value\")\n",
    "axs[1, 1].set_title(\"TIMSS Science Score of Eighth Grade Student\")\n",
    "axs[1, 1].set_xlabel('Science Score (8th Grade)')\n",
    "axs[1, 1].set_ylabel('Count')\n",
    "axs[1, 1].set_xlim(300, 630)"
   ]
  },
  {
   "cell_type": "markdown",
   "metadata": {
    "id": "w9dCP5m3ANck"
   },
   "source": [
    "In this chart, it shows the distribution of 2015 TIMSS scores. While the score performing by the eighth students show that mostly flat distributed. The score performed by fourth grade student crowded around 500 - 550. "
   ]
  },
  {
   "cell_type": "code",
   "execution_count": null,
   "metadata": {
    "colab": {
     "base_uri": "https://localhost:8080/",
     "height": 1000
    },
    "id": "MF5Zk4Wp8fQy",
    "outputId": "41a5e1d7-4172-4884-c762-3a2f9d900606"
   },
   "outputs": [
    {
     "data": {
      "text/plain": [
       "Text(0, 0.5, '')"
      ]
     },
     "execution_count": 54,
     "metadata": {
      "tags": []
     },
     "output_type": "execute_result"
    },
    {
     "data": {
      "image/png": "[encoded data removed]",
      "text/plain": [
       "<Figure size 1440x1080 with 4 Axes>"
      ]
     },
     "metadata": {
      "tags": []
     },
     "output_type": "display_data"
    }
   ],
   "source": [
    "fig, axs = plt.subplots(2, 2, figsize=(20, 15))\n",
    "fig.suptitle('2015 TIMSS Score Top Ten Countries')\n",
    "\n",
    "sns.barplot(ax=axs[0, 0], data=timss_math_four_2015.nlargest(10, 'Value'), x=\"Value\", y='Country Name', color=\"#0E86D4\")\n",
    "axs[0, 0].set_title(\"TIMSS Mathematics Score of Fourth Grade Student\")\n",
    "axs[0, 0].set_xlabel('Mathematics Score (4th Grade)')\n",
    "axs[0, 0].set_ylabel('')\n",
    "\n",
    "sns.barplot(ax=axs[0, 1], data=timss_math_eight_2015.nlargest(10, 'Value'), x=\"Value\", y='Country Name', color=\"#0E86D4\")\n",
    "axs[0, 1].set_title(\"TIMSS Mathematics Score of Eighth Grade Student\")\n",
    "axs[0, 1].set_xlabel('Mathematics Score (8th Grade)')\n",
    "axs[0, 1].set_ylabel('')\n",
    "\n",
    "sns.barplot(ax=axs[1, 0], data=timss_sci_four_2015.nlargest(10, 'Value'), x=\"Value\", y='Country Name', color=\"#0E86D4\")\n",
    "axs[1, 0].set_title(\"TIMSS Science Score of Fourth Grade Student\")\n",
    "axs[1, 0].set_xlabel('Science Score (4th Grade)')\n",
    "axs[1, 0].set_ylabel('')\n",
    "\n",
    "sns.barplot(ax=axs[1, 1], data=timss_sci_eight_2015.nlargest(10, 'Value'), x=\"Value\", y='Country Name', color=\"#0E86D4\")\n",
    "axs[1, 1].set_title(\"TIMSS Science Score of Eighth Grade Student\")\n",
    "axs[1, 1].set_xlabel('Science Score (8th Grade)')\n",
    "axs[1, 1].set_ylabel('')"
   ]
  },
  {
   "cell_type": "markdown",
   "metadata": {
    "id": "_PZ5b7Q0BwJB"
   },
   "source": [
    "The charts show the top ten countries with highest 2015 score in each category. The highest scores in all categories achieved by Singapore. So, it can said that Singapore students is very strong in mathematics and science skills. Korea Republic, Hong Kong, and Japan seems to be very competitive in term of the score as well. The top three in each categories do not have a large gap in the score, but rather very close cut. Surprisingly, Kazakhastan which has an image of third world country also performing very well and can be included in a top ten in very categories."
   ]
  },
  {
   "cell_type": "markdown",
   "metadata": {
    "id": "JAA73s4snDU2"
   },
   "source": [
    "# Data Wrangling for R/Orange\n",
    "\n"
   ]
  },
  {
   "cell_type": "code",
   "execution_count": null,
   "metadata": {
    "colab": {
     "base_uri": "https://localhost:8080/",
     "height": 419
    },
    "id": "9cM6CDPYpm6i",
    "outputId": "7e7757f8-8b97-4648-8f44-1aa30e3ff488"
   },
   "outputs": [
    {
     "data": {
      "text/html": [
       "<div>\n",
       "<style scoped>\n",
       "    .dataframe tbody tr th:only-of-type {\n",
       "        vertical-align: middle;\n",
       "    }\n",
       "\n",
       "    .dataframe tbody tr th {\n",
       "        vertical-align: top;\n",
       "    }\n",
       "\n",
       "    .dataframe thead th {\n",
       "        text-align: right;\n",
       "    }\n",
       "</style>\n",
       "<table border=\"1\" class=\"dataframe\">\n",
       "  <thead>\n",
       "    <tr style=\"text-align: right;\">\n",
       "      <th></th>\n",
       "      <th>Country Name</th>\n",
       "      <th>Country Code</th>\n",
       "      <th>Indicator Name</th>\n",
       "      <th>Indicator Code</th>\n",
       "      <th>Year</th>\n",
       "      <th>Value</th>\n",
       "    </tr>\n",
       "  </thead>\n",
       "  <tbody>\n",
       "    <tr>\n",
       "      <th>1331</th>\n",
       "      <td>Arab World</td>\n",
       "      <td>ARB</td>\n",
       "      <td>Gross enrolment ratio, primary, both sexes (%)</td>\n",
       "      <td>SE.PRM.ENRR</td>\n",
       "      <td>1970-01-01</td>\n",
       "      <td>66.621872</td>\n",
       "    </tr>\n",
       "    <tr>\n",
       "      <th>4996</th>\n",
       "      <td>East Asia &amp; Pacific</td>\n",
       "      <td>EAS</td>\n",
       "      <td>Gross enrolment ratio, primary, both sexes (%)</td>\n",
       "      <td>SE.PRM.ENRR</td>\n",
       "      <td>1970-01-01</td>\n",
       "      <td>102.804962</td>\n",
       "    </tr>\n",
       "    <tr>\n",
       "      <th>8661</th>\n",
       "      <td>East Asia &amp; Pacific (excluding high income)</td>\n",
       "      <td>EAP</td>\n",
       "      <td>Gross enrolment ratio, primary, both sexes (%)</td>\n",
       "      <td>SE.PRM.ENRR</td>\n",
       "      <td>1970-01-01</td>\n",
       "      <td>102.708969</td>\n",
       "    </tr>\n",
       "    <tr>\n",
       "      <th>12326</th>\n",
       "      <td>Euro area</td>\n",
       "      <td>EMU</td>\n",
       "      <td>Gross enrolment ratio, primary, both sexes (%)</td>\n",
       "      <td>SE.PRM.ENRR</td>\n",
       "      <td>1970-01-01</td>\n",
       "      <td>107.150627</td>\n",
       "    </tr>\n",
       "    <tr>\n",
       "      <th>15991</th>\n",
       "      <td>Europe &amp; Central Asia</td>\n",
       "      <td>ECS</td>\n",
       "      <td>Gross enrolment ratio, primary, both sexes (%)</td>\n",
       "      <td>SE.PRM.ENRR</td>\n",
       "      <td>1970-01-01</td>\n",
       "      <td>105.036568</td>\n",
       "    </tr>\n",
       "    <tr>\n",
       "      <th>...</th>\n",
       "      <td>...</td>\n",
       "      <td>...</td>\n",
       "      <td>...</td>\n",
       "      <td>...</td>\n",
       "      <td>...</td>\n",
       "      <td>...</td>\n",
       "    </tr>\n",
       "    <tr>\n",
       "      <th>41397506</th>\n",
       "      <td>Nepal</td>\n",
       "      <td>NPL</td>\n",
       "      <td>Gross enrolment ratio, primary, both sexes (%)</td>\n",
       "      <td>SE.PRM.ENRR</td>\n",
       "      <td>2016-01-01</td>\n",
       "      <td>135.862137</td>\n",
       "    </tr>\n",
       "    <tr>\n",
       "      <th>41437821</th>\n",
       "      <td>Palau</td>\n",
       "      <td>PLW</td>\n",
       "      <td>Gross enrolment ratio, primary, both sexes (%)</td>\n",
       "      <td>SE.PRM.ENRR</td>\n",
       "      <td>2016-01-01</td>\n",
       "      <td>99.641830</td>\n",
       "    </tr>\n",
       "    <tr>\n",
       "      <th>41492796</th>\n",
       "      <td>Sao Tome and Principe</td>\n",
       "      <td>STP</td>\n",
       "      <td>Gross enrolment ratio, primary, both sexes (%)</td>\n",
       "      <td>SE.PRM.ENRR</td>\n",
       "      <td>2016-01-01</td>\n",
       "      <td>114.956253</td>\n",
       "    </tr>\n",
       "    <tr>\n",
       "      <th>41588086</th>\n",
       "      <td>Tajikistan</td>\n",
       "      <td>TJK</td>\n",
       "      <td>Gross enrolment ratio, primary, both sexes (%)</td>\n",
       "      <td>SE.PRM.ENRR</td>\n",
       "      <td>2016-01-01</td>\n",
       "      <td>100.468292</td>\n",
       "    </tr>\n",
       "    <tr>\n",
       "      <th>41654056</th>\n",
       "      <td>Uzbekistan</td>\n",
       "      <td>UZB</td>\n",
       "      <td>Gross enrolment ratio, primary, both sexes (%)</td>\n",
       "      <td>SE.PRM.ENRR</td>\n",
       "      <td>2016-01-01</td>\n",
       "      <td>104.397751</td>\n",
       "    </tr>\n",
       "  </tbody>\n",
       "</table>\n",
       "<p>8083 rows × 6 columns</p>\n",
       "</div>"
      ],
      "text/plain": [
       "                                         Country Name  ...       Value\n",
       "1331                                       Arab World  ...   66.621872\n",
       "4996                              East Asia & Pacific  ...  102.804962\n",
       "8661      East Asia & Pacific (excluding high income)  ...  102.708969\n",
       "12326                                       Euro area  ...  107.150627\n",
       "15991                           Europe & Central Asia  ...  105.036568\n",
       "...                                               ...  ...         ...\n",
       "41397506                                        Nepal  ...  135.862137\n",
       "41437821                                        Palau  ...   99.641830\n",
       "41492796                        Sao Tome and Principe  ...  114.956253\n",
       "41588086                                   Tajikistan  ...  100.468292\n",
       "41654056                                   Uzbekistan  ...  104.397751\n",
       "\n",
       "[8083 rows x 6 columns]"
      ]
     },
     "execution_count": 76,
     "metadata": {
      "tags": []
     },
     "output_type": "execute_result"
    }
   ],
   "source": [
    "education[education['Indicator Name'] == 'Gross enrolment ratio, primary, both sexes (%)']"
   ]
  },
  {
   "cell_type": "code",
   "execution_count": null,
   "metadata": {
    "id": "B21dc_HlnFX7"
   },
   "outputs": [],
   "source": [
    "education[education['Indicator Name'] == 'Gross enrolment ratio, primary, both sexes (%)'].to_csv('school_enrollment.csv')"
   ]
  },
  {
   "cell_type": "code",
   "execution_count": null,
   "metadata": {
    "colab": {
     "base_uri": "https://localhost:8080/",
     "height": 419
    },
    "id": "C3qNj9Ndrx5s",
    "outputId": "f9e7e5f7-8e5f-489f-bf63-61b54565ab70"
   },
   "outputs": [
    {
     "data": {
      "text/html": [
       "<div>\n",
       "<style scoped>\n",
       "    .dataframe tbody tr th:only-of-type {\n",
       "        vertical-align: middle;\n",
       "    }\n",
       "\n",
       "    .dataframe tbody tr th {\n",
       "        vertical-align: top;\n",
       "    }\n",
       "\n",
       "    .dataframe thead th {\n",
       "        text-align: right;\n",
       "    }\n",
       "</style>\n",
       "<table border=\"1\" class=\"dataframe\">\n",
       "  <thead>\n",
       "    <tr style=\"text-align: right;\">\n",
       "      <th></th>\n",
       "      <th>Country Name</th>\n",
       "      <th>Country Code</th>\n",
       "      <th>Indicator Name</th>\n",
       "      <th>Indicator Code</th>\n",
       "      <th>Year</th>\n",
       "      <th>Value</th>\n",
       "    </tr>\n",
       "  </thead>\n",
       "  <tbody>\n",
       "    <tr>\n",
       "      <th>92000</th>\n",
       "      <td>Afghanistan</td>\n",
       "      <td>AFG</td>\n",
       "      <td>Barro-Lee: Percentage of population age 15+ wi...</td>\n",
       "      <td>BAR.PRM.CMPT.15UP.ZS</td>\n",
       "      <td>1970-01-01</td>\n",
       "      <td>0.41</td>\n",
       "    </tr>\n",
       "    <tr>\n",
       "      <th>95665</th>\n",
       "      <td>Albania</td>\n",
       "      <td>ALB</td>\n",
       "      <td>Barro-Lee: Percentage of population age 15+ wi...</td>\n",
       "      <td>BAR.PRM.CMPT.15UP.ZS</td>\n",
       "      <td>1970-01-01</td>\n",
       "      <td>23.49</td>\n",
       "    </tr>\n",
       "    <tr>\n",
       "      <th>99330</th>\n",
       "      <td>Algeria</td>\n",
       "      <td>DZA</td>\n",
       "      <td>Barro-Lee: Percentage of population age 15+ wi...</td>\n",
       "      <td>BAR.PRM.CMPT.15UP.ZS</td>\n",
       "      <td>1970-01-01</td>\n",
       "      <td>5.23</td>\n",
       "    </tr>\n",
       "    <tr>\n",
       "      <th>117655</th>\n",
       "      <td>Argentina</td>\n",
       "      <td>ARG</td>\n",
       "      <td>Barro-Lee: Percentage of population age 15+ wi...</td>\n",
       "      <td>BAR.PRM.CMPT.15UP.ZS</td>\n",
       "      <td>1970-01-01</td>\n",
       "      <td>30.77</td>\n",
       "    </tr>\n",
       "    <tr>\n",
       "      <th>121320</th>\n",
       "      <td>Armenia</td>\n",
       "      <td>ARM</td>\n",
       "      <td>Barro-Lee: Percentage of population age 15+ wi...</td>\n",
       "      <td>BAR.PRM.CMPT.15UP.ZS</td>\n",
       "      <td>1970-01-01</td>\n",
       "      <td>19.17</td>\n",
       "    </tr>\n",
       "    <tr>\n",
       "      <th>...</th>\n",
       "      <td>...</td>\n",
       "      <td>...</td>\n",
       "      <td>...</td>\n",
       "      <td>...</td>\n",
       "      <td>...</td>\n",
       "      <td>...</td>\n",
       "    </tr>\n",
       "    <tr>\n",
       "      <th>36338850</th>\n",
       "      <td>Venezuela, RB</td>\n",
       "      <td>VEN</td>\n",
       "      <td>Barro-Lee: Percentage of population age 15+ wi...</td>\n",
       "      <td>BAR.PRM.CMPT.15UP.ZS</td>\n",
       "      <td>2010-01-01</td>\n",
       "      <td>26.67</td>\n",
       "    </tr>\n",
       "    <tr>\n",
       "      <th>36342515</th>\n",
       "      <td>Vietnam</td>\n",
       "      <td>VNM</td>\n",
       "      <td>Barro-Lee: Percentage of population age 15+ wi...</td>\n",
       "      <td>BAR.PRM.CMPT.15UP.ZS</td>\n",
       "      <td>2010-01-01</td>\n",
       "      <td>14.29</td>\n",
       "    </tr>\n",
       "    <tr>\n",
       "      <th>36353510</th>\n",
       "      <td>Yemen, Rep.</td>\n",
       "      <td>YEM</td>\n",
       "      <td>Barro-Lee: Percentage of population age 15+ wi...</td>\n",
       "      <td>BAR.PRM.CMPT.15UP.ZS</td>\n",
       "      <td>2010-01-01</td>\n",
       "      <td>10.56</td>\n",
       "    </tr>\n",
       "    <tr>\n",
       "      <th>36357175</th>\n",
       "      <td>Zambia</td>\n",
       "      <td>ZMB</td>\n",
       "      <td>Barro-Lee: Percentage of population age 15+ wi...</td>\n",
       "      <td>BAR.PRM.CMPT.15UP.ZS</td>\n",
       "      <td>2010-01-01</td>\n",
       "      <td>27.45</td>\n",
       "    </tr>\n",
       "    <tr>\n",
       "      <th>36360840</th>\n",
       "      <td>Zimbabwe</td>\n",
       "      <td>ZWE</td>\n",
       "      <td>Barro-Lee: Percentage of population age 15+ wi...</td>\n",
       "      <td>BAR.PRM.CMPT.15UP.ZS</td>\n",
       "      <td>2010-01-01</td>\n",
       "      <td>26.68</td>\n",
       "    </tr>\n",
       "  </tbody>\n",
       "</table>\n",
       "<p>1296 rows × 6 columns</p>\n",
       "</div>"
      ],
      "text/plain": [
       "           Country Name Country Code  ...       Year  Value\n",
       "92000       Afghanistan          AFG  ... 1970-01-01   0.41\n",
       "95665           Albania          ALB  ... 1970-01-01  23.49\n",
       "99330           Algeria          DZA  ... 1970-01-01   5.23\n",
       "117655        Argentina          ARG  ... 1970-01-01  30.77\n",
       "121320          Armenia          ARM  ... 1970-01-01  19.17\n",
       "...                 ...          ...  ...        ...    ...\n",
       "36338850  Venezuela, RB          VEN  ... 2010-01-01  26.67\n",
       "36342515        Vietnam          VNM  ... 2010-01-01  14.29\n",
       "36353510    Yemen, Rep.          YEM  ... 2010-01-01  10.56\n",
       "36357175         Zambia          ZMB  ... 2010-01-01  27.45\n",
       "36360840       Zimbabwe          ZWE  ... 2010-01-01  26.68\n",
       "\n",
       "[1296 rows x 6 columns]"
      ]
     },
     "execution_count": 79,
     "metadata": {
      "tags": []
     },
     "output_type": "execute_result"
    }
   ],
   "source": [
    "education[education['Indicator Name'] == 'Barro-Lee: Percentage of population age 15+ with primary schooling. Completed Primary']"
   ]
  },
  {
   "cell_type": "code",
   "execution_count": null,
   "metadata": {
    "id": "u-RHmighvv6x"
   },
   "outputs": [],
   "source": [
    "education[education['Indicator Name'] == 'Barro-Lee: Percentage of population age 15+ with primary schooling. Completed Primary'].to_csv('primary_completed.csv')"
   ]
  }
 ],
 "metadata": {
  "colab": {
   "collapsed_sections": [],
   "name": "CSC536_Term_Project.ipynb",
   "provenance": [],
   "toc_visible": true
  },
  "kernelspec": {
   "display_name": "Python 3",
   "language": "python",
   "name": "python3"
  },
  "language_info": {
   "codemirror_mode": {
    "name": "ipython",
    "version": 3
   },
   "file_extension": ".py",
   "mimetype": "text/x-python",
   "name": "python",
   "nbconvert_exporter": "python",
   "pygments_lexer": "ipython3",
   "version": "3.9.5"
  }
 },
 "nbformat": 4,
 "nbformat_minor": 1
}
